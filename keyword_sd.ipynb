{
 "cells": [
  {
   "cell_type": "code",
   "execution_count": 95,
   "metadata": {
    "collapsed": false,
    "pycharm": {
     "name": "#%%\n"
    }
   },
   "outputs": [],
   "source": [
    "import pandas as pd\n",
    "import statistics as stat\n",
    "import numpy as np\n",
    "import pyecharts.options as opts\n",
    "from pyecharts.charts import Line"
   ]
  },
  {
   "cell_type": "code",
   "execution_count": null,
   "metadata": {
    "collapsed": false,
    "pycharm": {
     "name": "#%%\n"
    }
   },
   "outputs": [],
   "source": [
    "#cnn yearly\n",
    "#Each topic draws a picture of standard deviation, the x ordinate is time, and the y ordinate is the standard deviation picture of this keyword\n",
    "#average number is the average number of counts in this time period"
   ]
  },
  {
   "cell_type": "code",
   "execution_count": 3,
   "metadata": {
    "collapsed": false,
    "pycharm": {
     "name": "#%%\n"
    }
   },
   "outputs": [],
   "source": [
    "df = pd.read_csv(\"news_cnn.csv\")"
   ]
  },
  {
   "cell_type": "code",
   "execution_count": 4,
   "metadata": {
    "collapsed": false,
    "pycharm": {
     "name": "#%%\n"
    }
   },
   "outputs": [
    {
     "data": {
      "text/plain": [
       "Climate change             9685\n",
       "Extreme weather            1845\n",
       "Environmental crisis       1063\n",
       "Carbon emissions            942\n",
       "Climate action              932\n",
       "Climate policy              883\n",
       "Environmental policy        867\n",
       "Renewable energy            848\n",
       "Sustainable development     842\n",
       "Paris Agreement             839\n",
       "Climate science             441\n",
       "Sea level rise              406\n",
       "Greenhouse gases            228\n",
       "Biodiversity loss            66\n",
       "Climate advocacy             58\n",
       "Climate adaptation           56\n",
       "COP15                         1\n",
       "Name: keyword, dtype: int64"
      ]
     },
     "execution_count": 4,
     "metadata": {},
     "output_type": "execute_result"
    }
   ],
   "source": [
    "df['keyword'].value_counts() #remove the last keywords because its little frequency"
   ]
  },
  {
   "cell_type": "code",
   "execution_count": 142,
   "metadata": {
    "collapsed": false,
    "pycharm": {
     "name": "#%%\n"
    }
   },
   "outputs": [],
   "source": [
    "def std(my_list,average):\n",
    "    try:\n",
    "        return round((sum((x-average)**2 for x in my_list) / (len(my_list)))**0.5,4)\n",
    "    except:\n",
    "        return 0"
   ]
  },
  {
   "cell_type": "code",
   "execution_count": 148,
   "metadata": {
    "collapsed": false,
    "pycharm": {
     "name": "#%%\n"
    }
   },
   "outputs": [],
   "source": [
    "def standard_deviation_year(df,path):\n",
    "    df['year'] = pd.to_datetime(df['date']).dt.year\n",
    "    df['ym'] = pd.to_datetime(df['date']).dt.year.astype('str') + '-' + pd.to_datetime(df['date']).dt.month.astype('str')\n",
    "    keyword = df['keyword'].value_counts().index.tolist()[:-1]\n",
    "\n",
    "    for key in keyword:\n",
    "        all = df[df['keyword'] == key]['ym'].value_counts().values.tolist()\n",
    "        average = sum(all) / len(all)\n",
    "        t = pd.pivot_table(df[df['keyword'] == key],index=['year','ym'],aggfunc='count')['url']\n",
    "        y = []\n",
    "        for e in t.index.tolist():\n",
    "            y.append(e[0])\n",
    "        t = pd.pivot_table(df[df['keyword'] == key],index=['ym'],aggfunc='count')['url']\n",
    "        t = pd.DataFrame(t)\n",
    "        t['year'] = y\n",
    "        std_nums = []\n",
    "        for y in t['year'].value_counts().sort_index().index.tolist():\n",
    "            my_list = t[t['year']==y]['url'].values.tolist()\n",
    "            std_num = float(std(my_list,average))\n",
    "            std_nums.append(std_num)\n",
    "        print(key)\n",
    "\n",
    "        line = (\n",
    "            Line()\n",
    "                .add_xaxis(t['year'].value_counts().sort_index().index.astype(str).tolist())\n",
    "                .add_yaxis(key, std_nums, is_smooth=True) \n",
    "                .set_global_opts(title_opts=opts.TitleOpts(title=key),\n",
    "                    xaxis_opts=opts.AxisOpts(\n",
    "                    name='year',\n",
    "                    name_location='middle',\n",
    "                    name_gap=30, # The distance between the label and the axis, the default is 20, it is best not to set 20\n",
    "                    name_textstyle_opts=opts.TextStyleOpts(\n",
    "                    font_family='Times New Roman',\n",
    "                    font_size=16 # Label font size\n",
    "                    )),\n",
    "                    yaxis_opts=opts.AxisOpts(\n",
    "                    name='standard deviation',\n",
    "                    name_location='middle',\n",
    "                    name_gap=30,\n",
    "                    name_textstyle_opts=opts.TextStyleOpts(\n",
    "                    font_family='Times New Roman',\n",
    "                    font_size=16\n",
    "                    # font_weight='bolder',\n",
    "                    )),\n",
    "                    # toolbox_opts=opts.ToolboxOpts() # tool options\n",
    "                    )\n",
    "        )\n",
    "        line.render('./{}/key_year/{}.html'.format(path,key))\n"
   ]
  },
  {
   "cell_type": "code",
   "execution_count": 149,
   "metadata": {
    "collapsed": false,
    "pycharm": {
     "name": "#%%\n"
    }
   },
   "outputs": [
    {
     "name": "stdout",
     "output_type": "stream",
     "text": [
      "Climate change\n",
      "Extreme weather\n",
      "Environmental crisis\n",
      "Carbon emissions\n",
      "Climate action\n",
      "Climate policy\n",
      "Environmental policy\n",
      "Renewable energy\n",
      "Sustainable development\n",
      "Paris Agreement\n",
      "Climate science\n",
      "Sea level rise\n",
      "Greenhouse gases\n",
      "Biodiversity loss\n",
      "Climate advocacy\n",
      "Climate adaptation\n"
     ]
    }
   ],
   "source": [
    "df = pd.read_csv(\"news_cnn.csv\")\n",
    "standard_deviation_year(df,'cnn_html')"
   ]
  },
  {
   "cell_type": "code",
   "execution_count": 145,
   "metadata": {
    "pycharm": {
     "name": "#%%\n"
    }
   },
   "outputs": [],
   "source": [
    "#cnn monthly"
   ]
  },
  {
   "cell_type": "code",
   "execution_count": 150,
   "metadata": {
    "collapsed": false,
    "pycharm": {
     "name": "#%%\n"
    }
   },
   "outputs": [],
   "source": [
    "def standard_deviation_month(df,path):\n",
    "    time = ['2019-1', '2019-2', '2019-3', '2019-4', '2019-5', '2019-6', '2019-7', '2019-8', '2019-9', '2019-10', '2019-11', '2019-12', '2020-1','2020-2', '2020-3', '2020-4', '2020-5', '2020-6', '2020-7', '2020-8', '2020-9', '2020-10', '2020-11', '2020-12',  '2021-1',  '2021-2', '2021-3', '2021-4', '2021-5', '2021-6', '2021-7', '2021-8', '2021-9','2021-10', '2021-11', '2021-12', '2022-1', '2022-2', '2022-3', '2022-4', '2022-5', '2022-6', '2022-7', '2022-8', '2022-9', '2022-10', '2022-11', '2022-12',]\n",
    "\n",
    "    df['year'] = pd.to_datetime(df['date']).dt.year.astype('int')\n",
    "    df = df[2018<df['year']]\n",
    "    df['ym'] = pd.to_datetime(df['date']).dt.year.astype('str') + '-' + pd.to_datetime(df['date']).dt.month.astype('str')\n",
    "    df['ymr'] = pd.to_datetime(df['date']).dt.date.astype('str')\n",
    "    keyword = df['keyword'].value_counts().index.tolist()[:-1]\n",
    "\n",
    "\n",
    "    for key in keyword:\n",
    "        all = df[df['keyword'] == key]['ymr'].value_counts().values.tolist()\n",
    "        average = sum(all) / len(all)\n",
    "        t = pd.pivot_table(df[df['keyword'] == key],index=['ym','ymr'],aggfunc='count')['url']\n",
    "        y = []\n",
    "        for e in t.index.tolist():\n",
    "            y.append(e[0])\n",
    "        t = pd.pivot_table(df[df['keyword'] == key],index=['ymr'],aggfunc='count')['url']\n",
    "        t = pd.DataFrame(t)\n",
    "        t['ym'] = y\n",
    "        std_nums = []\n",
    "        for y in time:\n",
    "            my_list = t[t['ym']==y]['url'].values.tolist()\n",
    "            std_num = float(std(my_list,average))\n",
    "            std_nums.append(std_num)\n",
    "        print(key)\n",
    "\n",
    "        line = (\n",
    "            Line()\n",
    "                .add_xaxis(time)\n",
    "                .add_yaxis(key, std_nums, is_smooth=True) \n",
    "                .set_global_opts(title_opts=opts.TitleOpts(title=key),\n",
    "                    datazoom_opts=opts.DataZoomOpts(),\n",
    "                    xaxis_opts=opts.AxisOpts(\n",
    "                    name='month',\n",
    "                    name_location='middle',\n",
    "                    name_gap=30, \n",
    "                    name_textstyle_opts=opts.TextStyleOpts(\n",
    "                    font_family='Times New Roman',\n",
    "                    font_size=16 \n",
    "                    )),\n",
    "                    yaxis_opts=opts.AxisOpts(\n",
    "                    name='standard deviation',\n",
    "                    name_location='middle',\n",
    "                    name_gap=30,\n",
    "                    name_textstyle_opts=opts.TextStyleOpts(\n",
    "                    font_family='Times New Roman',\n",
    "                    font_size=16\n",
    "                    # font_weight='bolder',\n",
    "                    )),\n",
    "                    # toolbox_opts=opts.ToolboxOpts() # tool options\n",
    "                    )\n",
    "        )\n",
    "        line.render('./{}/key_month/{}.html'.format(path,key))"
   ]
  },
  {
   "cell_type": "code",
   "execution_count": 151,
   "metadata": {
    "collapsed": false,
    "pycharm": {
     "name": "#%%\n"
    }
   },
   "outputs": [
    {
     "name": "stderr",
     "output_type": "stream",
     "text": [
      "C:\\Users\\86157\\AppData\\Local\\Temp\\ipykernel_25224\\799498233.py:6: SettingWithCopyWarning: \n",
      "A value is trying to be set on a copy of a slice from a DataFrame.\n",
      "Try using .loc[row_indexer,col_indexer] = value instead\n",
      "\n",
      "See the caveats in the documentation: https://pandas.pydata.org/pandas-docs/stable/user_guide/indexing.html#returning-a-view-versus-a-copy\n",
      "  df['ym'] = pd.to_datetime(df['date']).dt.year.astype('str') + '-' + pd.to_datetime(df['date']).dt.month.astype('str')\n",
      "C:\\Users\\86157\\AppData\\Local\\Temp\\ipykernel_25224\\799498233.py:7: SettingWithCopyWarning: \n",
      "A value is trying to be set on a copy of a slice from a DataFrame.\n",
      "Try using .loc[row_indexer,col_indexer] = value instead\n",
      "\n",
      "See the caveats in the documentation: https://pandas.pydata.org/pandas-docs/stable/user_guide/indexing.html#returning-a-view-versus-a-copy\n",
      "  df['ymr'] = pd.to_datetime(df['date']).dt.date.astype('str')\n"
     ]
    },
    {
     "name": "stdout",
     "output_type": "stream",
     "text": [
      "Climate change\n",
      "Extreme weather\n",
      "Environmental crisis\n",
      "Carbon emissions\n",
      "Climate action\n",
      "Sustainable development\n",
      "Environmental policy\n",
      "Climate policy\n",
      "Renewable energy\n",
      "Paris Agreement\n",
      "Sea level rise\n",
      "Climate science\n",
      "Greenhouse gases\n",
      "Biodiversity loss\n",
      "Climate advocacy\n",
      "Climate adaptation\n"
     ]
    }
   ],
   "source": [
    "df = pd.read_csv(\"news_cnn.csv\")\n",
    "standard_deviation_month(df,'cnn_html')"
   ]
  },
  {
   "cell_type": "code",
   "execution_count": null,
   "metadata": {
    "pycharm": {
     "name": "#%%\n"
    }
   },
   "outputs": [],
   "source": [
    "#fox yearly\n",
    "#Each topic draws a picture of sd"
   ]
  },
  {
   "cell_type": "code",
   "execution_count": 153,
   "metadata": {
    "collapsed": false,
    "pycharm": {
     "name": "#%%\n"
    }
   },
   "outputs": [
    {
     "name": "stdout",
     "output_type": "stream",
     "text": [
      "Extreme weather\n",
      "Climate change\n",
      "Sea level rise\n",
      "Renewable energy\n",
      "Paris Agreement\n",
      "Greenhouse gases\n",
      "Environmental crisis\n",
      "Environmental policy\n",
      "Sustainable development\n",
      "Carbon emissions\n",
      "Climate advocacy\n",
      "Climate science\n",
      "Climate adaptation\n",
      "Climate policy\n",
      "Biodiversity loss\n",
      "Climate action\n",
      "COP26 (or other UN climate conferences)\n"
     ]
    }
   ],
   "source": [
    "df = pd.read_csv(\"fox.csv\")\n",
    "standard_deviation_year(df,'fox_html')"
   ]
  },
  {
   "cell_type": "code",
   "execution_count": null,
   "metadata": {
    "pycharm": {
     "name": "#%%\n"
    }
   },
   "outputs": [],
   "source": [
    "#fox monthly"
   ]
  },
  {
   "cell_type": "code",
   "execution_count": 152,
   "metadata": {
    "collapsed": false,
    "pycharm": {
     "name": "#%%\n"
    }
   },
   "outputs": [
    {
     "name": "stderr",
     "output_type": "stream",
     "text": [
      "C:\\Users\\86157\\AppData\\Local\\Temp\\ipykernel_25224\\799498233.py:6: SettingWithCopyWarning: \n",
      "A value is trying to be set on a copy of a slice from a DataFrame.\n",
      "Try using .loc[row_indexer,col_indexer] = value instead\n",
      "\n",
      "See the caveats in the documentation: https://pandas.pydata.org/pandas-docs/stable/user_guide/indexing.html#returning-a-view-versus-a-copy\n",
      "  df['ym'] = pd.to_datetime(df['date']).dt.year.astype('str') + '-' + pd.to_datetime(df['date']).dt.month.astype('str')\n",
      "C:\\Users\\86157\\AppData\\Local\\Temp\\ipykernel_25224\\799498233.py:7: SettingWithCopyWarning: \n",
      "A value is trying to be set on a copy of a slice from a DataFrame.\n",
      "Try using .loc[row_indexer,col_indexer] = value instead\n",
      "\n",
      "See the caveats in the documentation: https://pandas.pydata.org/pandas-docs/stable/user_guide/indexing.html#returning-a-view-versus-a-copy\n",
      "  df['ymr'] = pd.to_datetime(df['date']).dt.date.astype('str')\n"
     ]
    },
    {
     "name": "stdout",
     "output_type": "stream",
     "text": [
      "Extreme weather\n",
      "Climate change\n",
      "Environmental crisis\n",
      "Sea level rise\n",
      "Paris Agreement\n",
      "Renewable energy\n",
      "Environmental policy\n",
      "Greenhouse gases\n",
      "Carbon emissions\n",
      "Climate advocacy\n",
      "Sustainable development\n",
      "Climate adaptation\n",
      "COP26 (or other UN climate conferences)\n",
      "Climate policy\n",
      "Climate action\n",
      "Biodiversity loss\n",
      "Climate science\n"
     ]
    }
   ],
   "source": [
    "df = pd.read_csv(\"fox.csv\")\n",
    "standard_deviation_month(df,'fox_html')"
   ]
  },
  {
   "cell_type": "code",
   "execution_count": null,
   "metadata": {
    "pycharm": {
     "name": "#%%\n"
    }
   },
   "outputs": [],
   "source": [
    "#cnn & fox， yearly\n",
    "#Each topic draws a picture of sd"
   ]
  },
  {
   "cell_type": "code",
   "execution_count": 154,
   "metadata": {
    "collapsed": false,
    "pycharm": {
     "name": "#%%\n"
    }
   },
   "outputs": [
    {
     "name": "stdout",
     "output_type": "stream",
     "text": [
      "Climate change\n",
      "Extreme weather\n",
      "Environmental crisis\n",
      "Renewable energy\n",
      "Paris Agreement\n",
      "Carbon emissions\n",
      "Environmental policy\n",
      "Sustainable development\n",
      "Sea level rise\n",
      "Greenhouse gases\n",
      "Climate action\n",
      "Climate policy\n",
      "Climate advocacy\n",
      "Climate science\n",
      "Climate adaptation\n",
      "Biodiversity loss\n",
      "COP26 (or other UN climate conferences)\n"
     ]
    }
   ],
   "source": [
    "df1 = pd.read_csv(\"news_cnn.csv\")\n",
    "df2 = pd.read_csv(\"fox.csv\")\n",
    "df = pd.concat([df1,df2])\n",
    "standard_deviation_year(df,'cnn_fox_html')"
   ]
  },
  {
   "cell_type": "code",
   "execution_count": null,
   "metadata": {
    "pycharm": {
     "name": "#%%\n"
    }
   },
   "outputs": [],
   "source": [
    "#cnn & fox，monthly"
   ]
  },
  {
   "cell_type": "code",
   "execution_count": 155,
   "metadata": {
    "collapsed": false,
    "pycharm": {
     "name": "#%%\n"
    }
   },
   "outputs": [
    {
     "name": "stderr",
     "output_type": "stream",
     "text": [
      "C:\\Users\\86157\\AppData\\Local\\Temp\\ipykernel_25224\\799498233.py:6: SettingWithCopyWarning: \n",
      "A value is trying to be set on a copy of a slice from a DataFrame.\n",
      "Try using .loc[row_indexer,col_indexer] = value instead\n",
      "\n",
      "See the caveats in the documentation: https://pandas.pydata.org/pandas-docs/stable/user_guide/indexing.html#returning-a-view-versus-a-copy\n",
      "  df['ym'] = pd.to_datetime(df['date']).dt.year.astype('str') + '-' + pd.to_datetime(df['date']).dt.month.astype('str')\n",
      "C:\\Users\\86157\\AppData\\Local\\Temp\\ipykernel_25224\\799498233.py:7: SettingWithCopyWarning: \n",
      "A value is trying to be set on a copy of a slice from a DataFrame.\n",
      "Try using .loc[row_indexer,col_indexer] = value instead\n",
      "\n",
      "See the caveats in the documentation: https://pandas.pydata.org/pandas-docs/stable/user_guide/indexing.html#returning-a-view-versus-a-copy\n",
      "  df['ymr'] = pd.to_datetime(df['date']).dt.date.astype('str')\n"
     ]
    },
    {
     "name": "stdout",
     "output_type": "stream",
     "text": [
      "Climate change\n",
      "Extreme weather\n",
      "Environmental crisis\n",
      "Carbon emissions\n",
      "Paris Agreement\n",
      "Sea level rise\n",
      "Renewable energy\n",
      "Environmental policy\n",
      "Sustainable development\n",
      "Climate action\n",
      "Climate policy\n",
      "Greenhouse gases\n",
      "Climate advocacy\n",
      "Climate science\n",
      "Climate adaptation\n",
      "Biodiversity loss\n",
      "COP26 (or other UN climate conferences)\n"
     ]
    }
   ],
   "source": [
    "df1 = pd.read_csv(\"news_cnn.csv\")\n",
    "df2 = pd.read_csv(\"fox.csv\")\n",
    "df = pd.concat([df1,df2])\n",
    "standard_deviation_month(df,'cnn_fox_html')"
   ]
  },
  {
   "cell_type": "code",
   "execution_count": null,
   "metadata": {
    "collapsed": false,
    "pycharm": {
     "name": "#%%\n"
    }
   },
   "outputs": [],
   "source": []
  }
 ],
 "metadata": {
  "language_info": {
   "name": "python"
  },
  "orig_nbformat": 4
 },
 "nbformat": 4,
 "nbformat_minor": 2
}
