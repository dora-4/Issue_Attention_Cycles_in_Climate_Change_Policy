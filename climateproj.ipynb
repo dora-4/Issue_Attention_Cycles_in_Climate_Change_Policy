{
 "cells": [
  {
   "attachments": {},
   "cell_type": "markdown",
   "metadata": {
    "pycharm": {
     "name": "#%% md\n"
    }
   },
   "source": [
    "# CNN and Fox data analysis"
   ]
  },
  {
   "attachments": {},
   "cell_type": "markdown",
   "metadata": {
    "pycharm": {
     "name": "#%% md\n"
    }
   },
   "source": [
    "## CNN"
   ]
  },
  {
   "attachments": {},
   "cell_type": "markdown",
   "metadata": {
    "pycharm": {
     "name": "#%% md\n"
    }
   },
   "source": [
    "### Yearly （2005-2022）"
   ]
  },
  {
   "cell_type": "code",
   "execution_count": 1,
   "metadata": {
    "pycharm": {
     "name": "#%%\n"
    }
   },
   "outputs": [],
   "source": [
    "#2005-2022, yearly\n",
    "#sentiment analysis\n",
    "#statisitcs and data visulization\n",
    "#results interpretation"
   ]
  },
  {
   "cell_type": "code",
   "execution_count": 2,
   "metadata": {
    "collapsed": false,
    "pycharm": {
     "name": "#%%\n"
    }
   },
   "outputs": [],
   "source": [
    "from textblob import TextBlob\n",
    "import pandas as pd\n",
    "from pyecharts.charts import Pie,Bar,Geo,Map,Boxplot,Page,WordCloud,Grid,Line,Funnel,Timeline\n",
    "import pyecharts.options as opts\n",
    "from pyecharts.globals import ThemeType\n",
    "from pyecharts.commons.utils import JsCode\n",
    "from pyecharts.globals import ChartType\n",
    "import pyLDAvis.sklearn\n",
    "import pyLDAvis\n",
    "from sklearn.feature_extraction.text import TfidfVectorizer\n",
    "from sklearn.feature_extraction.text import TfidfTransformer\n",
    "from sklearn.feature_extraction.text import CountVectorizer\n",
    "from sklearn.decomposition import LatentDirichletAllocation\n",
    "import nltk\n",
    "import warnings\n",
    "warnings.filterwarnings(\"ignore\")"
   ]
  },
  {
   "cell_type": "code",
   "execution_count": 3,
   "metadata": {
    "collapsed": false,
    "pycharm": {
     "name": "#%%\n"
    }
   },
   "outputs": [],
   "source": [
    "df = pd.read_csv(\"./data/news_cnn.csv\")\n",
    "df.dropna(inplace=True)\n",
    "#deal time variable\n",
    "df['date'] = pd.to_datetime(df['date']).dt.year"
   ]
  },
  {
   "cell_type": "code",
   "execution_count": 4,
   "metadata": {
    "collapsed": false,
    "pycharm": {
     "name": "#%%\n"
    }
   },
   "outputs": [
    {
     "name": "stdout",
     "output_type": "stream",
     "text": [
      "19991\n"
     ]
    }
   ],
   "source": [
    "print(len(df))"
   ]
  },
  {
   "cell_type": "code",
   "execution_count": 5,
   "metadata": {
    "collapsed": false,
    "pycharm": {
     "name": "#%%\n"
    }
   },
   "outputs": [],
   "source": [
    "#sentiment analysis for headline\n",
    "headline = {}\n",
    "for year in  df['date'].value_counts().sort_index().index.tolist():\n",
    "    temp = []\n",
    "    for each in df[df['date']==year]['headline'].values.tolist():\n",
    "        try:\n",
    "            temp.append(TextBlob(each).sentiment[0])\n",
    "        except:\n",
    "            print(each)\n",
    "\n",
    "    headline[str(year)] = temp"
   ]
  },
  {
   "cell_type": "code",
   "execution_count": 6,
   "metadata": {
    "collapsed": false,
    "pycharm": {
     "name": "#%%\n"
    }
   },
   "outputs": [
    {
     "data": {
      "text/plain": [
       "'/Users/chunyangzhang/Desktop/macs30200/proj/code1.4/cnn_html/year_emotion/headline.html'"
      ]
     },
     "execution_count": 6,
     "metadata": {},
     "output_type": "execute_result"
    }
   ],
   "source": [
    "box_plot = Boxplot(init_opts=opts.InitOpts(width=\"1200px\", height=\"730px\"))\n",
    "\n",
    "box_plot = (\n",
    "    # There are only 2 columns in the year of 2010 and it causes errors, so strarts from 2011 \n",
    "    box_plot.add_xaxis(xaxis_data=list(headline.keys())[1:])\n",
    "    .add_yaxis(series_name=\"headline\", y_axis=box_plot.prepare_data(list(headline.values())[1:]))\n",
    "    .set_global_opts(\n",
    "        title_opts=opts.TitleOpts(\n",
    "             title=\"headline Emotional distribution\"\n",
    "        ),\n",
    "        tooltip_opts=opts.TooltipOpts(trigger=\"item\", axis_pointer_type=\"shadow\"),\n",
    "        xaxis_opts=opts.AxisOpts(\n",
    "            type_=\"category\",\n",
    "            boundary_gap=True,\n",
    "            splitarea_opts=opts.SplitAreaOpts(is_show=False),\n",
    "            axislabel_opts=opts.LabelOpts(formatter=\"{value}\"),\n",
    "            splitline_opts=opts.SplitLineOpts(is_show=False),\n",
    "        ),\n",
    "        yaxis_opts=opts.AxisOpts(\n",
    "            type_=\"value\",\n",
    "            name=\"\",\n",
    "            splitarea_opts=opts.SplitAreaOpts(\n",
    "                is_show=True, areastyle_opts=opts.AreaStyleOpts(opacity=1)\n",
    "            ),\n",
    "        ),\n",
    "    )\n",
    "    .set_series_opts(tooltip_opts=opts.TooltipOpts(formatter=\"{a}: {c}\"))\n",
    ")  # {a}:Series name，{b}:data name，{c}:Numeric array，{d}:none\n",
    "\n",
    "box_plot.render(r\"./cnn_html/year_emotion/headline.html\")"
   ]
  },
  {
   "cell_type": "code",
   "execution_count": 7,
   "metadata": {
    "collapsed": false,
    "pycharm": {
     "name": "#%%\n"
    }
   },
   "outputs": [],
   "source": [
    "body_1 = {} # Holistic analysis\n",
    "body_2 = {} # Mean-taking analysis"
   ]
  },
  {
   "cell_type": "code",
   "execution_count": 8,
   "metadata": {
    "collapsed": false,
    "pycharm": {
     "name": "#%%\n"
    }
   },
   "outputs": [],
   "source": [
    "for year in  df['date'].value_counts().sort_index().index.tolist():\n",
    "    temp = []\n",
    "    for each in df[df['date']==year]['body'].values.tolist():\n",
    "        try:\n",
    "            temp.append(TextBlob(each).sentiment[0])\n",
    "        except:\n",
    "            print(each)\n",
    "\n",
    "    body_1[str(year)] = temp"
   ]
  },
  {
   "cell_type": "code",
   "execution_count": 9,
   "metadata": {
    "collapsed": false,
    "pycharm": {
     "name": "#%%\n"
    }
   },
   "outputs": [
    {
     "data": {
      "text/plain": [
       "'/Users/chunyangzhang/Desktop/macs30200/proj/code1.4/cnn_html/year_emotion/body_1.html'"
      ]
     },
     "execution_count": 9,
     "metadata": {},
     "output_type": "execute_result"
    }
   ],
   "source": [
    "box_plot = Boxplot(init_opts=opts.InitOpts(width=\"1200px\", height=\"730px\"))\n",
    "\n",
    "box_plot = (\n",
    "    box_plot.add_xaxis(xaxis_data=list(body_1.keys())[1:])\n",
    "    .add_yaxis(series_name=\"body\", y_axis=box_plot.prepare_data(list(body_1.values())[1:]))\n",
    "    .set_global_opts(\n",
    "        title_opts=opts.TitleOpts(\n",
    "             title=\"Holistic analysis distribution\"\n",
    "        ),\n",
    "        tooltip_opts=opts.TooltipOpts(trigger=\"item\", axis_pointer_type=\"shadow\"),\n",
    "        xaxis_opts=opts.AxisOpts(\n",
    "            type_=\"category\",\n",
    "            boundary_gap=True,\n",
    "            splitarea_opts=opts.SplitAreaOpts(is_show=False),\n",
    "            axislabel_opts=opts.LabelOpts(formatter=\"{value}\"),\n",
    "            splitline_opts=opts.SplitLineOpts(is_show=False),\n",
    "        ),\n",
    "        yaxis_opts=opts.AxisOpts(\n",
    "            type_=\"value\",\n",
    "            name=\"\",\n",
    "            splitarea_opts=opts.SplitAreaOpts(\n",
    "                is_show=True, areastyle_opts=opts.AreaStyleOpts(opacity=1)\n",
    "            ),\n",
    "        ),\n",
    "    )\n",
    "    .set_series_opts(tooltip_opts=opts.TooltipOpts(formatter=\"{a}: {c}\"))\n",
    ")  # {a}:Series name，{b}:data name，{c}:Numeric array，{d}:none\n",
    "\n",
    "box_plot.render(r\"./cnn_html/year_emotion/body_1.html\")"
   ]
  },
  {
   "cell_type": "code",
   "execution_count": 10,
   "metadata": {
    "collapsed": false,
    "pycharm": {
     "name": "#%%\n"
    }
   },
   "outputs": [],
   "source": [
    "for year in  df['date'].value_counts().sort_index().index.tolist():\n",
    "    temp = []\n",
    "    for each in df[df['date']==year]['body'].values.tolist():\n",
    "        num = []\n",
    "        for e in each.split('.'):\n",
    "            try:\n",
    "                num.append(TextBlob(e).sentiment[0])\n",
    "            except:\n",
    "                print(each)\n",
    "        temp.append(round(sum(num)/len(num),2))\n",
    "\n",
    "    body_2[str(year)] = temp\n",
    "\n"
   ]
  },
  {
   "cell_type": "code",
   "execution_count": 11,
   "metadata": {
    "collapsed": false,
    "pycharm": {
     "name": "#%%\n"
    }
   },
   "outputs": [
    {
     "data": {
      "text/plain": [
       "'/Users/chunyangzhang/Desktop/macs30200/proj/code1.4/cnn_html/year_emotion/body_2.html'"
      ]
     },
     "execution_count": 11,
     "metadata": {},
     "output_type": "execute_result"
    }
   ],
   "source": [
    "box_plot = Boxplot(init_opts=opts.InitOpts(width=\"1200px\", height=\"730px\"))\n",
    "\n",
    "box_plot = (\n",
    "    box_plot.add_xaxis(xaxis_data=list(body_2.keys())[1:])\n",
    "    .add_yaxis(series_name=\"body\", y_axis=box_plot.prepare_data(list(body_2.values())[1:]))\n",
    "    .set_global_opts(\n",
    "        title_opts=opts.TitleOpts(\n",
    "             title=\"Mean-taking analysis\"\n",
    "        ),\n",
    "        tooltip_opts=opts.TooltipOpts(trigger=\"item\", axis_pointer_type=\"shadow\"),\n",
    "        xaxis_opts=opts.AxisOpts(\n",
    "            type_=\"category\",\n",
    "            boundary_gap=True,\n",
    "            splitarea_opts=opts.SplitAreaOpts(is_show=False),\n",
    "            axislabel_opts=opts.LabelOpts(formatter=\"{value}\"),\n",
    "            splitline_opts=opts.SplitLineOpts(is_show=False),\n",
    "        ),\n",
    "        yaxis_opts=opts.AxisOpts(\n",
    "            type_=\"value\",\n",
    "            name=\"\",\n",
    "            splitarea_opts=opts.SplitAreaOpts(\n",
    "                is_show=True, areastyle_opts=opts.AreaStyleOpts(opacity=1)\n",
    "            ),\n",
    "        ),\n",
    "    )\n",
    "    .set_series_opts(tooltip_opts=opts.TooltipOpts(formatter=\"{a}: {c}\"))\n",
    ")  # {a}:Series name，{b}:data name，{c}:Numeric array，{d}:none\n",
    "\n",
    "box_plot.render(r\"./cnn_html/year_emotion/body_2.html\")"
   ]
  },
  {
   "cell_type": "code",
   "execution_count": 12,
   "metadata": {
    "pycharm": {
     "name": "#%%\n"
    }
   },
   "outputs": [],
   "source": [
    "#clustering\n",
    "#statisitcs and data visulization\n",
    "#results interpretation"
   ]
  },
  {
   "cell_type": "code",
   "execution_count": 13,
   "metadata": {
    "collapsed": false,
    "pycharm": {
     "name": "#%%\n"
    }
   },
   "outputs": [],
   "source": [
    "stopwords_file = open('data//stopwords.txt', 'r', encoding='utf-8')\n",
    "stopwords = [words.strip() for words in stopwords_file.readlines()]\n",
    "stopwords.append(' ')\n",
    "for year in  df['date'].value_counts().sort_index().index.tolist():\n",
    "    temp = df[df['date']==year]['body'].values.tolist()\n",
    "    wordslist = []\n",
    "\n",
    "    for v in temp:\n",
    "        seg_list_after = []\n",
    "        seg_list = nltk.word_tokenize(v)\n",
    "        for seg in seg_list:\n",
    "            if seg not in stopwords:\n",
    "                seg_list_after.append(seg)\n",
    "        temp = ' '.join(seg_list_after)\n",
    "        wordslist.append(temp)\n",
    "\n",
    "    tf_idf_vectorizer = TfidfVectorizer()\n",
    "    tf_idf = tf_idf_vectorizer.fit_transform(wordslist)\n",
    "\n",
    "\n",
    "    # Feature word TF-IDF matrix\n",
    "    X = tf_idf.toarray()\n",
    "\n",
    "    # The number of topics selected\n",
    "    n_topics = 5\n",
    "    # The number of first n_top_words headings for each topic to be output\n",
    "    n_top_words = 20\n",
    "\n",
    "    lda = LatentDirichletAllocation(\n",
    "        n_components=n_topics, max_iter=50,\n",
    "        learning_method='online',\n",
    "        learning_offset=50.,\n",
    "        random_state=0)\n",
    "    # Core, feed LDA the resulting TF-IDF matrix\n",
    "    lda.fit(tf_idf)\n",
    "\n",
    "\n",
    "    # Use pyLDAvis for visualization\n",
    "    data = pyLDAvis.sklearn.prepare(lda, tf_idf, tf_idf_vectorizer,mds='mmds')\n",
    "    try:\n",
    "        pyLDAvis.save_html(data, './cnn_html/year_lda/lda_{}.html'.format(year))\n",
    "    except:\n",
    "        print(year)"
   ]
  },
  {
   "cell_type": "code",
   "execution_count": 14,
   "metadata": {
    "collapsed": false,
    "pycharm": {
     "name": "#%%\n"
    }
   },
   "outputs": [
    {
     "data": {
      "text/plain": [
       "Climate change             9676\n",
       "Extreme weather            1845\n",
       "Environmental crisis       1063\n",
       "Carbon emissions            942\n",
       "Climate action              932\n",
       "Climate policy              883\n",
       "Environmental policy        867\n",
       "Renewable energy            846\n",
       "Sustainable development     842\n",
       "Paris Agreement             839\n",
       "Climate science             441\n",
       "Sea level rise              406\n",
       "Greenhouse gases            228\n",
       "Biodiversity loss            66\n",
       "Climate advocacy             58\n",
       "Climate adaptation           56\n",
       "COP15                         1\n",
       "Name: keyword, dtype: int64"
      ]
     },
     "execution_count": 14,
     "metadata": {},
     "output_type": "execute_result"
    }
   ],
   "source": [
    "df['keyword'].value_counts()#The last keyword is too scarce so discarded"
   ]
  },
  {
   "cell_type": "code",
   "execution_count": 15,
   "metadata": {
    "pycharm": {
     "name": "#%%\n"
    }
   },
   "outputs": [],
   "source": [
    "#count the number of times each of the 20 themes appears, and plot them in years. time series\n",
    "key = df['keyword'].value_counts().index.tolist()[:-1]\n",
    "count = 0\n",
    "for k in key:\n",
    "    temp = df[df['keyword']==k].groupby('date')['keyword'].count().sort_index()\n",
    "    line = (\n",
    "            Line(init_opts=opts.InitOpts(width=\"1230px\", height=\"730px\", theme=ThemeType.MACARONS))\n",
    "            .add_xaxis(temp.index.astype('str').tolist())\n",
    "            .add_yaxis(k, temp.values.tolist(), is_smooth=True)\n",
    "            .set_series_opts(\n",
    "                areastyle_opts=opts.AreaStyleOpts(opacity=0.5),\n",
    "                label_opts=opts.LabelOpts(is_show=False),\n",
    "            )\n",
    "            .set_global_opts(\n",
    "                title_opts=opts.TitleOpts(title=\"quantity distribution\"),\n",
    "                xaxis_opts=opts.AxisOpts(\n",
    "                    axistick_opts=opts.AxisTickOpts(is_align_with_label=True),\n",
    "                    is_scale=False,\n",
    "                    boundary_gap=False,\n",
    "                    name='time',\n",
    "                    name_location='middle',\n",
    "                    name_gap=30,  # The distance between the label and the axis is 20 by default. It is best not to set 20\n",
    "                    name_textstyle_opts=opts.TextStyleOpts(\n",
    "                        font_family='Times New Roman',\n",
    "                        font_size=16  # Tag font size\n",
    "                    )),\n",
    "\n",
    "                yaxis_opts=opts.AxisOpts(\n",
    "                    name='quantity',\n",
    "                    name_location='middle',\n",
    "                    name_gap=30,\n",
    "                    name_textstyle_opts=opts.TextStyleOpts(\n",
    "                        font_family='Times New Roman',\n",
    "                        font_size=16\n",
    "                        # font_weight='bolder',\n",
    "                    )),\n",
    "                # toolbox_opts=opts.ToolboxOpts() # Tool options\n",
    "            )\n",
    "        )\n",
    "    line.render(f\"./cnn_html/year_key/{k}.html\")\n"
   ]
  },
  {
   "cell_type": "code",
   "execution_count": 16,
   "metadata": {
    "collapsed": false,
    "pycharm": {
     "name": "#%%\n"
    }
   },
   "outputs": [
    {
     "data": {
      "text/plain": [
       "'/Users/chunyangzhang/Desktop/macs30200/proj/code1.4/cnn_html/year_key/5_key.html'"
      ]
     },
     "execution_count": 16,
     "metadata": {},
     "output_type": "execute_result"
    }
   ],
   "source": [
    "key = df['keyword'].value_counts().index.tolist()[:5]\n",
    "line = (\n",
    "        Line(init_opts=opts.InitOpts(width=\"1230px\", height=\"730px\", theme=ThemeType.MACARONS))\n",
    "        .add_xaxis(temp.index.astype('str').tolist())\n",
    "        .set_series_opts(\n",
    "            areastyle_opts=opts.AreaStyleOpts(opacity=0.5),\n",
    "            label_opts=opts.LabelOpts(is_show=False),\n",
    "        )\n",
    "        .set_global_opts(\n",
    "            title_opts=opts.TitleOpts(title=\"quantity distribution\"),\n",
    "            xaxis_opts=opts.AxisOpts(\n",
    "                axistick_opts=opts.AxisTickOpts(is_align_with_label=True),\n",
    "                is_scale=False,\n",
    "                boundary_gap=False,\n",
    "                name='time',\n",
    "                name_location='middle',\n",
    "                name_gap=30,  # The distance between the label and the axis is 20 by default. It is best not to set 20\n",
    "                name_textstyle_opts=opts.TextStyleOpts(\n",
    "                    font_family='Times New Roman',\n",
    "                    font_size=16  # Tag font size\n",
    "                )),\n",
    "\n",
    "            yaxis_opts=opts.AxisOpts(\n",
    "                name='quantity',\n",
    "                name_location='middle',\n",
    "                name_gap=30,\n",
    "                name_textstyle_opts=opts.TextStyleOpts(\n",
    "                    font_family='Times New Roman',\n",
    "                    font_size=16\n",
    "                    # font_weight='bolder',\n",
    "                )),\n",
    "            # toolbox_opts=opts.ToolboxOpts() # Tool options\n",
    "        )\n",
    "    )\n",
    "\n",
    "for ke in key:\n",
    "    num = {}\n",
    "    for i in range(2011,2023):\n",
    "        num[i] = 0\n",
    "    temp = df[df['keyword']==ke].groupby('date')['keyword'].count().sort_index()\n",
    "    for k,v in temp.to_dict().items():\n",
    "        if k in num:\n",
    "            num[k] = v\n",
    "\n",
    "    line.add_yaxis(ke, list(num.values()), is_smooth=True)\n",
    "\n",
    "line.render(f\"./cnn_html/year_key/5_key.html\")"
   ]
  },
  {
   "attachments": {},
   "cell_type": "markdown",
   "metadata": {
    "pycharm": {
     "name": "#%% md\n"
    }
   },
   "source": [
    "### Monthly （2019， 2021， 2022）"
   ]
  },
  {
   "cell_type": "code",
   "execution_count": 17,
   "metadata": {
    "pycharm": {
     "name": "#%%\n"
    }
   },
   "outputs": [],
   "source": [
    "#2019-2022, monthly\n",
    "#sentiment analysis\n",
    "#statisitcs and data visulization\n",
    "#results interpretation"
   ]
  },
  {
   "cell_type": "code",
   "execution_count": 18,
   "metadata": {
    "collapsed": false,
    "pycharm": {
     "name": "#%%\n"
    }
   },
   "outputs": [],
   "source": [
    "df = pd.read_csv(\"./data/news_cnn.csv\")\n",
    "df.dropna(inplace=True)\n",
    "df['year'] =  pd.to_datetime(df['date']).dt.year\n",
    "df = df[df['year']>=2019]\n",
    "#deal with time\n",
    "df['date'] = pd.to_datetime(df['date']).dt.year.astype(str) + '/' + pd.to_datetime(df['date']).dt.month.astype(str)"
   ]
  },
  {
   "cell_type": "code",
   "execution_count": 19,
   "metadata": {
    "collapsed": false,
    "pycharm": {
     "name": "#%%\n"
    }
   },
   "outputs": [],
   "source": [
    "y_time = ['2019/1', '2019/2', '2019/3', '2019/4', '2019/5', '2019/6', '2019/7', '2019/8', '2019/9','2019/10', '2019/11', '2019/12', '2020/1', '2020/2', '2020/3', '2020/4', '2020/5', '2020/6', '2020/7', '2020/8', '2020/9','2020/10', '2020/11', '2020/12', '2021/1',  '2021/2', '2021/3', '2021/4', '2021/5', '2021/6', '2021/7', '2021/8', '2021/9', '2021/10', '2021/11', '2021/12','2022/1',  '2022/2', '2022/3', '2022/4', '2022/5', '2022/6', '2022/7', '2022/8', '2022/9','2022/10', '2022/11', '2022/12',]"
   ]
  },
  {
   "cell_type": "code",
   "execution_count": 20,
   "metadata": {
    "collapsed": false,
    "pycharm": {
     "name": "#%%\n"
    }
   },
   "outputs": [
    {
     "data": {
      "text/plain": [
       "'/Users/chunyangzhang/Desktop/macs30200/proj/code1.4/cnn_html/month_emotion/headline.html'"
      ]
     },
     "execution_count": 20,
     "metadata": {},
     "output_type": "execute_result"
    }
   ],
   "source": [
    "headline = {}\n",
    "for y in  y_time:\n",
    "    temp = []\n",
    "    for each in df[df['date']==y]['headline'].values.tolist():\n",
    "        try:\n",
    "            temp.append(TextBlob(each).sentiment[0])\n",
    "        except:\n",
    "            print(each)\n",
    "    if len(temp) > 5:\n",
    "        headline[str(y)] = temp\n",
    "\n",
    "box_plot = Boxplot(init_opts=opts.InitOpts(width=\"1200px\", height=\"730px\"))\n",
    "\n",
    "box_plot = (\n",
    "    # In 2010, there were only 2 pieces of data, cause an error, so start from 2011\n",
    "    box_plot.add_xaxis(xaxis_data=list(headline.keys()))\n",
    "    .add_yaxis(series_name=\"headline\", y_axis=box_plot.prepare_data(list(headline.values())))\n",
    "    .set_global_opts(\n",
    "        title_opts=opts.TitleOpts(\n",
    "             title=\"headline Emotional distribution\"\n",
    "        ),\n",
    "        datazoom_opts=opts.DataZoomOpts(),\n",
    "        tooltip_opts=opts.TooltipOpts(trigger=\"item\", axis_pointer_type=\"shadow\"),\n",
    "        xaxis_opts=opts.AxisOpts(\n",
    "            type_=\"category\",\n",
    "            boundary_gap=True,\n",
    "            splitarea_opts=opts.SplitAreaOpts(is_show=False),\n",
    "            axislabel_opts=opts.LabelOpts(formatter=\"{value}\"),\n",
    "            splitline_opts=opts.SplitLineOpts(is_show=False),\n",
    "        ),\n",
    "        yaxis_opts=opts.AxisOpts(\n",
    "            type_=\"value\",\n",
    "            name=\"\",\n",
    "            splitarea_opts=opts.SplitAreaOpts(\n",
    "                is_show=True, areastyle_opts=opts.AreaStyleOpts(opacity=1)\n",
    "            ),\n",
    "        ),\n",
    "    )\n",
    "    .set_series_opts(tooltip_opts=opts.TooltipOpts(formatter=\"{a}: {c}\"))\n",
    ")  # {a}: series name, {b}: data name, {c}: array of values, {d}: none\n",
    "\n",
    "box_plot.render(r\"./cnn_html/month_emotion/headline.html\")"
   ]
  },
  {
   "cell_type": "code",
   "execution_count": 21,
   "metadata": {
    "collapsed": false,
    "pycharm": {
     "name": "#%%\n"
    }
   },
   "outputs": [
    {
     "data": {
      "text/plain": [
       "'/Users/chunyangzhang/Desktop/macs30200/proj/code1.4/cnn_html/month_emotion/body_1.html'"
      ]
     },
     "execution_count": 21,
     "metadata": {},
     "output_type": "execute_result"
    }
   ],
   "source": [
    "body_1 = {} # Holistic analysis\n",
    "body_2 = {} # Mean-taking analysis\n",
    "for year in  y_time:\n",
    "    temp = []\n",
    "    for each in df[df['date']==year]['body'].values.tolist():\n",
    "        try:\n",
    "            temp.append(TextBlob(each).sentiment[0])\n",
    "        except:\n",
    "            print(each)\n",
    "    if len(temp) > 5:\n",
    "        body_1[str(year)] = temp\n",
    "\n",
    "box_plot = Boxplot(init_opts=opts.InitOpts(width=\"1200px\", height=\"730px\"))\n",
    "\n",
    "box_plot = (\n",
    "    box_plot.add_xaxis(xaxis_data=list(body_1.keys()))\n",
    "    .add_yaxis(series_name=\"body\", y_axis=box_plot.prepare_data(list(body_1.values())))\n",
    "    .set_global_opts(\n",
    "        title_opts=opts.TitleOpts(\n",
    "             title=\"Holistic analysis distribution\"\n",
    "        ),\n",
    "        datazoom_opts=opts.DataZoomOpts(),\n",
    "        tooltip_opts=opts.TooltipOpts(trigger=\"item\", axis_pointer_type=\"shadow\"),\n",
    "        xaxis_opts=opts.AxisOpts(\n",
    "            type_=\"category\",\n",
    "            boundary_gap=True,\n",
    "            splitarea_opts=opts.SplitAreaOpts(is_show=False),\n",
    "            axislabel_opts=opts.LabelOpts(formatter=\"{value}\"),\n",
    "            splitline_opts=opts.SplitLineOpts(is_show=False),\n",
    "        ),\n",
    "        yaxis_opts=opts.AxisOpts(\n",
    "            type_=\"value\",\n",
    "            name=\"\",\n",
    "            splitarea_opts=opts.SplitAreaOpts(\n",
    "                is_show=True, areastyle_opts=opts.AreaStyleOpts(opacity=1)\n",
    "            ),\n",
    "        ),\n",
    "    )\n",
    "    .set_series_opts(tooltip_opts=opts.TooltipOpts(formatter=\"{a}: {c}\"))\n",
    ")  # {a}: series name, {b}: data name, {c}: array of values, {d}: none\n",
    "\n",
    "box_plot.render(r\"./cnn_html/month_emotion/body_1.html\")"
   ]
  },
  {
   "cell_type": "code",
   "execution_count": 22,
   "metadata": {
    "collapsed": false,
    "pycharm": {
     "name": "#%%\n"
    }
   },
   "outputs": [
    {
     "data": {
      "text/plain": [
       "'/Users/chunyangzhang/Desktop/macs30200/proj/code1.4/cnn_html/month_emotion/body_2.html'"
      ]
     },
     "execution_count": 22,
     "metadata": {},
     "output_type": "execute_result"
    }
   ],
   "source": [
    "for year in y_time:\n",
    "    temp = []\n",
    "    for each in df[df['date'] == year]['body'].values.tolist():\n",
    "        num = []\n",
    "        for e in each.split('.'):\n",
    "            try:\n",
    "                num.append(TextBlob(e).sentiment[0])\n",
    "            except:\n",
    "                print(each)\n",
    "        temp.append(round(sum(num) / len(num), 2))\n",
    "    if len(temp) > 5:\n",
    "        body_2[str(year)] = temp\n",
    "\n",
    "box_plot = Boxplot(init_opts=opts.InitOpts(width=\"1200px\", height=\"730px\"))\n",
    "\n",
    "box_plot = (\n",
    "    box_plot.add_xaxis(xaxis_data=list(body_2.keys()))\n",
    "    .add_yaxis(series_name=\"body\", y_axis=box_plot.prepare_data(list(body_2.values())))\n",
    "    .set_global_opts(\n",
    "        title_opts=opts.TitleOpts(\n",
    "            title=\"Mean-taking analysis\"\n",
    "        ),\n",
    "        datazoom_opts=opts.DataZoomOpts(),\n",
    "        tooltip_opts=opts.TooltipOpts(trigger=\"item\", axis_pointer_type=\"shadow\"),\n",
    "        xaxis_opts=opts.AxisOpts(\n",
    "            type_=\"category\",\n",
    "            boundary_gap=True,\n",
    "            splitarea_opts=opts.SplitAreaOpts(is_show=False),\n",
    "            axislabel_opts=opts.LabelOpts(formatter=\"{value}\"),\n",
    "            splitline_opts=opts.SplitLineOpts(is_show=False),\n",
    "        ),\n",
    "        yaxis_opts=opts.AxisOpts(\n",
    "            type_=\"value\",\n",
    "            name=\"\",\n",
    "            splitarea_opts=opts.SplitAreaOpts(\n",
    "                is_show=True, areastyle_opts=opts.AreaStyleOpts(opacity=1)\n",
    "            ),\n",
    "        ),\n",
    "    )\n",
    "    .set_series_opts(tooltip_opts=opts.TooltipOpts(formatter=\"{a}: {c}\"))\n",
    ")  # {a}: series name, {b}: data name, {c}: array of values, {d}: none\n",
    "\n",
    "box_plot.render(r\"./cnn_html/month_emotion/body_2.html\")"
   ]
  },
  {
   "cell_type": "code",
   "execution_count": 23,
   "metadata": {
    "pycharm": {
     "name": "#%%\n"
    }
   },
   "outputs": [],
   "source": [
    "#clustering\n",
    "#statisitcs and data visulization\n",
    "#results interpretation"
   ]
  },
  {
   "cell_type": "code",
   "execution_count": 24,
   "metadata": {
    "collapsed": false,
    "pycharm": {
     "name": "#%%\n"
    }
   },
   "outputs": [],
   "source": [
    "stopwords_file = open('data//stopwords.txt', 'r', encoding='utf-8')\n",
    "stopwords = [words.strip() for words in stopwords_file.readlines()]\n",
    "stopwords.append(' ')\n",
    "for year in  y_time:\n",
    "    temp = df[df['date']==year]['body'].values.tolist()\n",
    "    wordslist = []\n",
    "\n",
    "    for v in temp:\n",
    "        seg_list_after = []\n",
    "        seg_list = nltk.word_tokenize(v)\n",
    "        for seg in seg_list:\n",
    "            if seg not in stopwords:\n",
    "                seg_list_after.append(seg)\n",
    "        temp = ' '.join(seg_list_after)\n",
    "        wordslist.append(temp)\n",
    "\n",
    "    tf_idf_vectorizer = TfidfVectorizer()\n",
    "    tf_idf = tf_idf_vectorizer.fit_transform(wordslist)\n",
    "\n",
    "\n",
    "    # Feature word TF-IDF matrix\n",
    "    X = tf_idf.toarray()\n",
    "\n",
    "    # The number of topics selected\n",
    "    n_topics = 5\n",
    "    # The number of first n_top_words headings for each topic to be output\n",
    "    n_top_words = 20\n",
    "\n",
    "    lda = LatentDirichletAllocation(\n",
    "        n_components=n_topics, max_iter=50,\n",
    "        learning_method='online',\n",
    "        learning_offset=50.,\n",
    "        random_state=0)\n",
    "    # Core, feed LDA the resulting TF-IDF matrix\n",
    "    lda.fit(tf_idf)\n",
    "\n",
    "\n",
    "    # Use pyLDAvis for visualization\n",
    "    data = pyLDAvis.sklearn.prepare(lda, tf_idf, tf_idf_vectorizer,mds='mmds')\n",
    "    try:\n",
    "        pyLDAvis.save_html(data, './cnn_html/month_lda/lda_{}.html'.format(year.replace('/','-')))\n",
    "    except:\n",
    "        print(year)"
   ]
  },
  {
   "cell_type": "code",
   "execution_count": 25,
   "metadata": {
    "pycharm": {
     "name": "#%%\n"
    }
   },
   "outputs": [],
   "source": [
    "#count the number of times each of the 20 topics appears, and plot it by month\n",
    "key = df['keyword'].value_counts().index.tolist()[:-1]\n",
    "count = 0\n",
    "for k in key:\n",
    "    temp = df[df['keyword']==k].groupby('date')['keyword'].count().sort_index()\n",
    "    line = (\n",
    "            Line(init_opts=opts.InitOpts(width=\"1230px\", height=\"730px\", theme=ThemeType.MACARONS))\n",
    "            .add_xaxis(temp.index.astype('str').tolist())\n",
    "            .add_yaxis(k, temp.values.tolist(), is_smooth=True)\n",
    "            .set_series_opts(\n",
    "                areastyle_opts=opts.AreaStyleOpts(opacity=0.5),\n",
    "                label_opts=opts.LabelOpts(is_show=False),\n",
    "            )\n",
    "            .set_global_opts(\n",
    "                title_opts=opts.TitleOpts(title=\"quantity distribution\"),\n",
    "                datazoom_opts=opts.DataZoomOpts(),\n",
    "                xaxis_opts=opts.AxisOpts(\n",
    "                    axistick_opts=opts.AxisTickOpts(is_align_with_label=True),\n",
    "                    is_scale=False,\n",
    "                    boundary_gap=False,\n",
    "                    name='time',\n",
    "                    name_location='middle',\n",
    "                    name_gap=30,  # The distance between the label and the axis is 20 by default. It is best not to set 20\n",
    "                    name_textstyle_opts=opts.TextStyleOpts(\n",
    "                        font_family='Times New Roman',\n",
    "                        font_size=16  # Tag font size\n",
    "                    )),\n",
    "\n",
    "                yaxis_opts=opts.AxisOpts(\n",
    "                    name='quantity',\n",
    "                    name_location='middle',\n",
    "                    name_gap=30,\n",
    "                    name_textstyle_opts=opts.TextStyleOpts(\n",
    "                        font_family='Times New Roman',\n",
    "                        font_size=16\n",
    "                        # font_weight='bolder',\n",
    "                    )),\n",
    "                # toolbox_opts=opts.ToolboxOpts() # Tool options\n",
    "            )\n",
    "        )\n",
    "    line.render(f\"./cnn_html/month_key/{k}.html\")"
   ]
  },
  {
   "cell_type": "code",
   "execution_count": 26,
   "metadata": {
    "collapsed": false,
    "pycharm": {
     "name": "#%%\n"
    }
   },
   "outputs": [
    {
     "data": {
      "text/plain": [
       "'/Users/chunyangzhang/Desktop/macs30200/proj/code1.4/cnn_html/month_key/5_key.html'"
      ]
     },
     "execution_count": 26,
     "metadata": {},
     "output_type": "execute_result"
    }
   ],
   "source": [
    "key = df['keyword'].value_counts().index.tolist()[:5]\n",
    "line = (\n",
    "        Line(init_opts=opts.InitOpts(width=\"1230px\", height=\"730px\", theme=ThemeType.MACARONS))\n",
    "        .add_xaxis(y_time)\n",
    "        .set_series_opts(\n",
    "            areastyle_opts=opts.AreaStyleOpts(opacity=0.5),\n",
    "            label_opts=opts.LabelOpts(is_show=False),\n",
    "        )\n",
    "        .set_global_opts(\n",
    "            title_opts=opts.TitleOpts(title=\"quantity distribution\"),\n",
    "            datazoom_opts=opts.DataZoomOpts(),\n",
    "            xaxis_opts=opts.AxisOpts(\n",
    "                axistick_opts=opts.AxisTickOpts(is_align_with_label=True),\n",
    "                is_scale=False,\n",
    "                boundary_gap=False,\n",
    "                name='time',\n",
    "                name_location='middle',\n",
    "                name_gap=30,  # # The distance between the label and the axis is 20 by default. It is best not to set 20\n",
    "                name_textstyle_opts=opts.TextStyleOpts(\n",
    "                    font_family='Times New Roman',\n",
    "                    font_size=16  # Tag font size\n",
    "                )),\n",
    "\n",
    "            yaxis_opts=opts.AxisOpts(\n",
    "                name='quantity',\n",
    "                name_location='middle',\n",
    "                name_gap=30,\n",
    "                name_textstyle_opts=opts.TextStyleOpts(\n",
    "                    font_family='Times New Roman',\n",
    "                    font_size=16\n",
    "                    # font_weight='bolder',\n",
    "                )),\n",
    "            # toolbox_opts=opts.ToolboxOpts() # Tool options\n",
    "        )\n",
    "    )\n",
    "\n",
    "for ke in key:\n",
    "    num = {}\n",
    "    for i in ['2019/1', '2019/2', '2019/3', '2019/4', '2019/5', '2019/6', '2019/7', '2019/8', '2019/9','2019/10', '2019/11', '2019/12', '2020/1', '2020/2', '2020/3', '2020/4', '2020/5', '2020/6', '2020/7', '2020/8', '2020/9','2020/10', '2020/11', '2020/12', '2021/1',  '2021/2', '2021/3', '2021/4', '2021/5', '2021/6', '2021/7', '2021/8', '2021/9', '2021/10', '2021/11', '2021/12','2022/1',  '2022/2', '2022/3', '2022/4', '2022/5', '2022/6', '2022/7', '2022/8', '2022/9','2022/10', '2022/11', '2022/12',]:\n",
    "        num[i] = 0\n",
    "    temp = df[df['keyword']==ke].groupby('date')['keyword'].count().sort_index()\n",
    "    for k,v in temp.to_dict().items():\n",
    "        if k in num:\n",
    "            num[k] = v\n",
    "\n",
    "    line.add_yaxis(ke, list(num.values()), is_smooth=True)\n",
    "\n",
    "line.render(f\"./cnn_html/month_key/5_key.html\")"
   ]
  },
  {
   "attachments": {},
   "cell_type": "markdown",
   "metadata": {
    "pycharm": {
     "name": "#%% md\n"
    }
   },
   "source": [
    "# Fox"
   ]
  },
  {
   "attachments": {},
   "cell_type": "markdown",
   "metadata": {
    "pycharm": {
     "name": "#%% md\n"
    }
   },
   "source": [
    "### Yearly （2005-2022）"
   ]
  },
  {
   "cell_type": "code",
   "execution_count": 27,
   "metadata": {
    "pycharm": {
     "name": "#%%\n"
    }
   },
   "outputs": [],
   "source": [
    "#2005-2022, yearly\n",
    "#sentiment analysis\n",
    "#statisitcs and data visulization\n",
    "#results interpretation"
   ]
  },
  {
   "cell_type": "code",
   "execution_count": 28,
   "metadata": {
    "collapsed": false,
    "pycharm": {
     "name": "#%%\n"
    }
   },
   "outputs": [],
   "source": [
    "df = pd.read_csv(\"./data/fox.csv\")\n",
    "df.dropna(inplace=True)\n",
    "df['date'] = pd.to_datetime(df['date']).dt.year"
   ]
  },
  {
   "cell_type": "code",
   "execution_count": 29,
   "metadata": {
    "collapsed": false,
    "pycharm": {
     "name": "#%%\n"
    }
   },
   "outputs": [
    {
     "data": {
      "text/plain": [
       "2015    2636\n",
       "2022    1136\n",
       "2019     951\n",
       "2021     928\n",
       "2020     770\n",
       "2017     657\n",
       "2016     624\n",
       "2018     573\n",
       "2014     486\n",
       "2013     426\n",
       "2012     376\n",
       "2011     325\n",
       "Name: date, dtype: int64"
      ]
     },
     "execution_count": 29,
     "metadata": {},
     "output_type": "execute_result"
    }
   ],
   "source": [
    "df['date'].value_counts()"
   ]
  },
  {
   "cell_type": "code",
   "execution_count": 30,
   "metadata": {
    "collapsed": false,
    "pycharm": {
     "name": "#%%\n"
    }
   },
   "outputs": [
    {
     "data": {
      "text/plain": [
       "'/Users/chunyangzhang/Desktop/macs30200/proj/code1.4/fox_html/year_emotion/headline.html'"
      ]
     },
     "execution_count": 30,
     "metadata": {},
     "output_type": "execute_result"
    }
   ],
   "source": [
    "#headline sentiment analysis\n",
    "headline = {}\n",
    "for year in  df['date'].value_counts().sort_index().index.tolist():\n",
    "    temp = []\n",
    "    for each in df[df['date']==year]['headline'].values.tolist():\n",
    "        try:\n",
    "            temp.append(TextBlob(each).sentiment[0])\n",
    "        except:\n",
    "            print(each)\n",
    "\n",
    "    headline[str(year)] = temp\n",
    "\n",
    "box_plot = Boxplot(init_opts=opts.InitOpts(width=\"1200px\", height=\"730px\"))\n",
    "\n",
    "box_plot = (\n",
    "    # In 2010, there were only 2 pieces of data, cause an error, so start from 2011\n",
    "    box_plot.add_xaxis(xaxis_data=list(headline.keys())[1:])\n",
    "    .add_yaxis(series_name=\"headline\", y_axis=box_plot.prepare_data(list(headline.values())[1:]))\n",
    "    .set_global_opts(\n",
    "        title_opts=opts.TitleOpts(\n",
    "             title=\"headline Emotional distribution\"\n",
    "        ),\n",
    "        tooltip_opts=opts.TooltipOpts(trigger=\"item\", axis_pointer_type=\"shadow\"),\n",
    "        xaxis_opts=opts.AxisOpts(\n",
    "            type_=\"category\",\n",
    "            boundary_gap=True,\n",
    "            splitarea_opts=opts.SplitAreaOpts(is_show=False),\n",
    "            axislabel_opts=opts.LabelOpts(formatter=\"{value}\"),\n",
    "            splitline_opts=opts.SplitLineOpts(is_show=False),\n",
    "        ),\n",
    "        yaxis_opts=opts.AxisOpts(\n",
    "            type_=\"value\",\n",
    "            name=\"\",\n",
    "            splitarea_opts=opts.SplitAreaOpts(\n",
    "                is_show=True, areastyle_opts=opts.AreaStyleOpts(opacity=1)\n",
    "            ),\n",
    "        ),\n",
    "    )\n",
    "    .set_series_opts(tooltip_opts=opts.TooltipOpts(formatter=\"{a}: {c}\"))\n",
    ")  \n",
    "\n",
    "box_plot.render(r\"./fox_html/year_emotion/headline.html\")"
   ]
  },
  {
   "cell_type": "code",
   "execution_count": 31,
   "metadata": {
    "collapsed": false,
    "pycharm": {
     "name": "#%%\n"
    }
   },
   "outputs": [
    {
     "data": {
      "text/plain": [
       "'/Users/chunyangzhang/Desktop/macs30200/proj/code1.4/fox_html/year_emotion/body_2.html'"
      ]
     },
     "execution_count": 31,
     "metadata": {},
     "output_type": "execute_result"
    }
   ],
   "source": [
    "body_1 = {} # Holistic analysis\n",
    "body_2 = {} # Mean-taking analysis\n",
    "for year in  df['date'].value_counts().sort_index().index.tolist():\n",
    "    temp = []\n",
    "    for each in df[df['date']==year]['body'].values.tolist():\n",
    "        try:\n",
    "            temp.append(TextBlob(each).sentiment[0])\n",
    "        except:\n",
    "            print(each)\n",
    "\n",
    "    body_1[str(year)] = temp\n",
    "\n",
    "box_plot = Boxplot(init_opts=opts.InitOpts(width=\"1200px\", height=\"730px\"))\n",
    "\n",
    "box_plot = (\n",
    "    box_plot.add_xaxis(xaxis_data=list(body_1.keys())[1:])\n",
    "    .add_yaxis(series_name=\"body\", y_axis=box_plot.prepare_data(list(body_1.values())[1:]))\n",
    "    .set_global_opts(\n",
    "        title_opts=opts.TitleOpts(\n",
    "            title=\"Holistic analysis distribution\"\n",
    "        ),\n",
    "        tooltip_opts=opts.TooltipOpts(trigger=\"item\", axis_pointer_type=\"shadow\"),\n",
    "        xaxis_opts=opts.AxisOpts(\n",
    "            type_=\"category\",\n",
    "            boundary_gap=True,\n",
    "            splitarea_opts=opts.SplitAreaOpts(is_show=False),\n",
    "            axislabel_opts=opts.LabelOpts(formatter=\"{value}\"),\n",
    "            splitline_opts=opts.SplitLineOpts(is_show=False),\n",
    "        ),\n",
    "        yaxis_opts=opts.AxisOpts(\n",
    "            type_=\"value\",\n",
    "            name=\"\",\n",
    "            splitarea_opts=opts.SplitAreaOpts(\n",
    "                is_show=True, areastyle_opts=opts.AreaStyleOpts(opacity=1)\n",
    "            ),\n",
    "        ),\n",
    "    )\n",
    "    .set_series_opts(tooltip_opts=opts.TooltipOpts(formatter=\"{a}: {c}\"))\n",
    ")  \n",
    "\n",
    "box_plot.render(r\"./fox_html/year_emotion/body_1.html\")\n",
    "for year in df['date'].value_counts().sort_index().index.tolist():\n",
    "    temp = []\n",
    "    for each in df[df['date'] == year]['body'].values.tolist():\n",
    "        num = []\n",
    "        for e in each.split('.'):\n",
    "            try:\n",
    "                num.append(TextBlob(e).sentiment[0])\n",
    "            except:\n",
    "                print(each)\n",
    "        temp.append(round(sum(num) / len(num), 2))\n",
    "\n",
    "    body_2[str(year)] = temp\n",
    "\n",
    "box_plot = Boxplot(init_opts=opts.InitOpts(width=\"1200px\", height=\"730px\"))\n",
    "\n",
    "box_plot = (\n",
    "    box_plot.add_xaxis(xaxis_data=list(body_2.keys())[1:])\n",
    "    .add_yaxis(series_name=\"body\", y_axis=box_plot.prepare_data(list(body_2.values())[1:]))\n",
    "    .set_global_opts(\n",
    "        title_opts=opts.TitleOpts(\n",
    "            title=\"Mean-taking analysis\"\n",
    "        ),\n",
    "        tooltip_opts=opts.TooltipOpts(trigger=\"item\", axis_pointer_type=\"shadow\"),\n",
    "        xaxis_opts=opts.AxisOpts(\n",
    "            type_=\"category\",\n",
    "            boundary_gap=True,\n",
    "            splitarea_opts=opts.SplitAreaOpts(is_show=False),\n",
    "            axislabel_opts=opts.LabelOpts(formatter=\"{value}\"),\n",
    "            splitline_opts=opts.SplitLineOpts(is_show=False),\n",
    "        ),\n",
    "        yaxis_opts=opts.AxisOpts(\n",
    "            type_=\"value\",\n",
    "            name=\"\",\n",
    "            splitarea_opts=opts.SplitAreaOpts(\n",
    "                is_show=True, areastyle_opts=opts.AreaStyleOpts(opacity=1)\n",
    "            ),\n",
    "        ),\n",
    "    )\n",
    "    .set_series_opts(tooltip_opts=opts.TooltipOpts(formatter=\"{a}: {c}\"))\n",
    ")  \n",
    "\n",
    "box_plot.render(r\"./fox_html/year_emotion/body_2.html\")"
   ]
  },
  {
   "cell_type": "code",
   "execution_count": 32,
   "metadata": {
    "pycharm": {
     "name": "#%%\n"
    }
   },
   "outputs": [],
   "source": [
    "#clustering\n",
    "#statisitcs and data visulization\n",
    "#results interpretation"
   ]
  },
  {
   "cell_type": "code",
   "execution_count": 33,
   "metadata": {
    "collapsed": false,
    "pycharm": {
     "name": "#%%\n"
    }
   },
   "outputs": [],
   "source": [
    "stopwords_file = open('data//stopwords.txt', 'r', encoding='utf-8')\n",
    "stopwords = [words.strip() for words in stopwords_file.readlines()]\n",
    "stopwords.append(' ')\n",
    "for year in  df['date'].value_counts().sort_index().index.tolist():\n",
    "    temp = df[df['date']==year]['body'].values.tolist()\n",
    "    wordslist = []\n",
    "\n",
    "    for v in temp:\n",
    "        seg_list_after = []\n",
    "        seg_list = nltk.word_tokenize(v)\n",
    "        for seg in seg_list:\n",
    "            if seg not in stopwords:\n",
    "                seg_list_after.append(seg)\n",
    "        temp = ' '.join(seg_list_after)\n",
    "        wordslist.append(temp)\n",
    "\n",
    "    tf_idf_vectorizer = TfidfVectorizer()\n",
    "    tf_idf = tf_idf_vectorizer.fit_transform(wordslist)\n",
    "\n",
    "\n",
    "    # Feature word TF-IDF matrix\n",
    "    X = tf_idf.toarray()\n",
    "\n",
    "    # The number of topics selected\n",
    "    n_topics = 5\n",
    "    # The number of first n_top_words headings for each topic to be output\n",
    "    n_top_words = 20\n",
    "\n",
    "    lda = LatentDirichletAllocation(\n",
    "        n_components=n_topics, max_iter=50,\n",
    "        learning_method='online',\n",
    "        learning_offset=50.,\n",
    "        random_state=0)\n",
    "    # Core, feed LDA the resulting TF-IDF matrix\n",
    "    lda.fit(tf_idf)\n",
    "\n",
    "\n",
    "    # Use pyLDAvis for visualization\n",
    "    data = pyLDAvis.sklearn.prepare(lda, tf_idf, tf_idf_vectorizer,mds='mmds')\n",
    "    try:\n",
    "        pyLDAvis.save_html(data, './fox_html/year_lda/lda_{}.html'.format(year))\n",
    "    except:\n",
    "        print(year)"
   ]
  },
  {
   "cell_type": "code",
   "execution_count": 34,
   "metadata": {
    "pycharm": {
     "name": "#%%\n"
    }
   },
   "outputs": [],
   "source": [
    "# count the number of times each of the 20 topics appeared and plot them by year"
   ]
  },
  {
   "cell_type": "code",
   "execution_count": 35,
   "metadata": {
    "collapsed": false,
    "pycharm": {
     "name": "#%%\n"
    }
   },
   "outputs": [
    {
     "data": {
      "text/plain": [
       "Extreme weather                            1249\n",
       "Climate change                             1094\n",
       "Sea level rise                              958\n",
       "Renewable energy                            950\n",
       "Paris Agreement                             870\n",
       "Greenhouse gases                            798\n",
       "Environmental crisis                        768\n",
       "Environmental policy                        653\n",
       "Sustainable development                     650\n",
       "Carbon emissions                            645\n",
       "Climate advocacy                            613\n",
       "Climate science                             179\n",
       "Climate adaptation                          158\n",
       "Climate policy                               86\n",
       "Biodiversity loss                            82\n",
       "Climate action                               74\n",
       "COP26 (or other UN climate conferences)      54\n",
       "COP15                                         7\n",
       "Name: keyword, dtype: int64"
      ]
     },
     "execution_count": 35,
     "metadata": {},
     "output_type": "execute_result"
    }
   ],
   "source": [
    "df['keyword'].value_counts()"
   ]
  },
  {
   "cell_type": "code",
   "execution_count": 36,
   "metadata": {
    "collapsed": false,
    "pycharm": {
     "name": "#%%\n"
    }
   },
   "outputs": [],
   "source": [
    "key = df['keyword'].value_counts().index.tolist()[:-1]\n",
    "count = 0\n",
    "for k in key:\n",
    "    temp = df[df['keyword']==k].groupby('date')['keyword'].count().sort_index()\n",
    "    line = (\n",
    "            Line(init_opts=opts.InitOpts(width=\"1230px\", height=\"730px\", theme=ThemeType.MACARONS))\n",
    "            .add_xaxis(temp.index.astype('str').tolist())\n",
    "            .add_yaxis(k, temp.values.tolist(), is_smooth=True)\n",
    "            .set_series_opts(\n",
    "                areastyle_opts=opts.AreaStyleOpts(opacity=0.5),\n",
    "                label_opts=opts.LabelOpts(is_show=False),\n",
    "            )\n",
    "            .set_global_opts(\n",
    "                title_opts=opts.TitleOpts(title=\"quantity distribution\"),\n",
    "                xaxis_opts=opts.AxisOpts(\n",
    "                    axistick_opts=opts.AxisTickOpts(is_align_with_label=True),\n",
    "                    is_scale=False,\n",
    "                    boundary_gap=False,\n",
    "                    name='time',\n",
    "                    name_location='middle',\n",
    "                    name_gap=30,  \n",
    "                    name_textstyle_opts=opts.TextStyleOpts(\n",
    "                        font_family='Times New Roman',\n",
    "                        font_size=16  \n",
    "                    )),\n",
    "\n",
    "                yaxis_opts=opts.AxisOpts(\n",
    "                    name='quantity',\n",
    "                    name_location='middle',\n",
    "                    name_gap=30,\n",
    "                    name_textstyle_opts=opts.TextStyleOpts(\n",
    "                        font_family='Times New Roman',\n",
    "                        font_size=16\n",
    "                        # font_weight='bolder',\n",
    "                    )),\n",
    "                # toolbox_opts=opts.ToolboxOpts() \n",
    "            )\n",
    "        )\n",
    "    line.render(f\"./fox_html/year_key/{k}.html\")"
   ]
  },
  {
   "cell_type": "code",
   "execution_count": 37,
   "metadata": {
    "collapsed": false,
    "pycharm": {
     "name": "#%%\n"
    }
   },
   "outputs": [
    {
     "data": {
      "text/plain": [
       "'/Users/chunyangzhang/Desktop/macs30200/proj/code1.4/fox_html/year_key/5_key.html'"
      ]
     },
     "execution_count": 37,
     "metadata": {},
     "output_type": "execute_result"
    }
   ],
   "source": [
    "key = df['keyword'].value_counts().index.tolist()[:5]\n",
    "line = (\n",
    "        Line(init_opts=opts.InitOpts(width=\"1230px\", height=\"730px\", theme=ThemeType.MACARONS))\n",
    "        .add_xaxis([str(i) for i in range(2015,2023)])\n",
    "        .set_series_opts(\n",
    "            areastyle_opts=opts.AreaStyleOpts(opacity=0.5),\n",
    "            label_opts=opts.LabelOpts(is_show=False),\n",
    "        )\n",
    "        .set_global_opts(\n",
    "            title_opts=opts.TitleOpts(title=\"quantity distribution\"),\n",
    "            xaxis_opts=opts.AxisOpts(\n",
    "                axistick_opts=opts.AxisTickOpts(is_align_with_label=True),\n",
    "                is_scale=False,\n",
    "                boundary_gap=False,\n",
    "                name='time',\n",
    "                name_location='middle',\n",
    "                name_gap=30,  \n",
    "                name_textstyle_opts=opts.TextStyleOpts(\n",
    "                    font_family='Times New Roman',\n",
    "                    font_size=16  \n",
    "                )),\n",
    "\n",
    "            yaxis_opts=opts.AxisOpts(\n",
    "                name='quantity',\n",
    "                name_location='middle',\n",
    "                name_gap=30,\n",
    "                name_textstyle_opts=opts.TextStyleOpts(\n",
    "                    font_family='Times New Roman',\n",
    "                    font_size=16\n",
    "                    # font_weight='bolder',\n",
    "                )),\n",
    "            # toolbox_opts=opts.ToolboxOpts() \n",
    "        )\n",
    "    )\n",
    "\n",
    "for ke in key:\n",
    "    num = {}\n",
    "    for i in range(2015,2023):\n",
    "        num[i] = 0\n",
    "    temp = df[df['keyword']==ke].groupby('date')['keyword'].count().sort_index()\n",
    "    for k,v in temp.to_dict().items():\n",
    "        if k in num:\n",
    "            num[k] = v\n",
    "\n",
    "    line.add_yaxis(ke, list(num.values()), is_smooth=True)\n",
    "\n",
    "line.render(f\"./fox_html/year_key/5_key.html\")"
   ]
  },
  {
   "attachments": {},
   "cell_type": "markdown",
   "metadata": {
    "pycharm": {
     "name": "#%% md\n"
    }
   },
   "source": [
    "### Monthly （2019， 2020， 2021， 2022）"
   ]
  },
  {
   "cell_type": "code",
   "execution_count": 38,
   "metadata": {
    "pycharm": {
     "name": "#%%\n"
    }
   },
   "outputs": [],
   "source": [
    "#2019-2022, monthly\n",
    "#sentiment analysis\n",
    "#statisitcs and data visulization\n",
    "#results interpretation"
   ]
  },
  {
   "cell_type": "code",
   "execution_count": 39,
   "metadata": {
    "collapsed": false,
    "pycharm": {
     "name": "#%%\n"
    }
   },
   "outputs": [],
   "source": [
    "df = pd.read_csv(\"./data/fox.csv\")\n",
    "df.dropna(inplace=True)\n",
    "df['year'] =  pd.to_datetime(df['date']).dt.year\n",
    "df = df[df['year']>=2019]\n",
    "df['date'] = pd.to_datetime(df['date']).dt.year.astype(str) + '-' + pd.to_datetime(df['date']).dt.month.astype(str)\n",
    "y_time = ['2019-1', '2019-2', '2019-3', '2019-4', '2019-5', '2019-6', '2019-7', '2019-8', '2019-9', '2019-10',\n",
    "          '2019-11', '2019-12', '2020-1', '2020-2', '2020-3', '2020-4', '2020-5', '2020-6', '2020-7', '2020-8',\n",
    "          '2020-9', '2020-10', '2020-11', '2020-12', '2021-1', '2021-2', '2021-3', '2021-4', '2021-5', '2021-6',\n",
    "          '2021-7', '2021-8', '2021-9', '2021-10', '2021-11', '2021-12', '2022-1', '2022-2', '2022-3', '2022-4',\n",
    "          '2022-5', '2022-6', '2022-7', '2022-8', '2022-9', '2022-10', '2022-11', '2022-12', ]\n"
   ]
  },
  {
   "cell_type": "code",
   "execution_count": 40,
   "metadata": {
    "collapsed": false,
    "pycharm": {
     "name": "#%%\n"
    }
   },
   "outputs": [
    {
     "data": {
      "text/plain": [
       "'/Users/chunyangzhang/Desktop/macs30200/proj/code1.4/fox_html/month_emotion/headline.html'"
      ]
     },
     "execution_count": 40,
     "metadata": {},
     "output_type": "execute_result"
    }
   ],
   "source": [
    "headline = {}\n",
    "for y in y_time:\n",
    "    temp = []\n",
    "    for each in df[df['date'] == y]['headline'].values.tolist():\n",
    "        try:\n",
    "            temp.append(TextBlob(each).sentiment[0])\n",
    "        except:\n",
    "            print(each)\n",
    "    if len(temp) > 5:\n",
    "        headline[str(y)] = temp\n",
    "\n",
    "box_plot = Boxplot(init_opts=opts.InitOpts(width=\"1200px\", height=\"730px\"))\n",
    "\n",
    "box_plot = (\n",
    "    box_plot.add_xaxis(xaxis_data=list(headline.keys()))\n",
    "    .add_yaxis(series_name=\"headline\", y_axis=box_plot.prepare_data(list(headline.values())))\n",
    "    .set_global_opts(\n",
    "        title_opts=opts.TitleOpts(\n",
    "            title=\"headline Emotional distribution\"\n",
    "        ),\n",
    "        datazoom_opts=opts.DataZoomOpts(),\n",
    "        tooltip_opts=opts.TooltipOpts(trigger=\"item\", axis_pointer_type=\"shadow\"),\n",
    "        xaxis_opts=opts.AxisOpts(\n",
    "            type_=\"category\",\n",
    "            boundary_gap=True,\n",
    "            splitarea_opts=opts.SplitAreaOpts(is_show=False),\n",
    "            axislabel_opts=opts.LabelOpts(formatter=\"{value}\"),\n",
    "            splitline_opts=opts.SplitLineOpts(is_show=False),\n",
    "        ),\n",
    "        yaxis_opts=opts.AxisOpts(\n",
    "            type_=\"value\",\n",
    "            name=\"\",\n",
    "            splitarea_opts=opts.SplitAreaOpts(\n",
    "                is_show=True, areastyle_opts=opts.AreaStyleOpts(opacity=1)\n",
    "            ),\n",
    "        ),\n",
    "    )\n",
    "    .set_series_opts(tooltip_opts=opts.TooltipOpts(formatter=\"{a}: {c}\"))\n",
    ")  \n",
    "\n",
    "box_plot.render(r\"./fox_html/month_emotion/headline.html\")\n"
   ]
  },
  {
   "cell_type": "code",
   "execution_count": 41,
   "metadata": {
    "collapsed": false,
    "pycharm": {
     "name": "#%%\n"
    }
   },
   "outputs": [
    {
     "data": {
      "text/plain": [
       "'/Users/chunyangzhang/Desktop/macs30200/proj/code1.4/fox_html/month_emotion/body_1.html'"
      ]
     },
     "execution_count": 41,
     "metadata": {},
     "output_type": "execute_result"
    }
   ],
   "source": [
    "body_1 = {} # Holistic analysis\n",
    "body_2 = {} # Mean-taking analysis\n",
    "for year in  y_time:\n",
    "    temp = []\n",
    "    for each in df[df['date']==year]['body'].values.tolist():\n",
    "        try:\n",
    "            temp.append(TextBlob(each).sentiment[0])\n",
    "        except:\n",
    "            print(each)\n",
    "    if len(temp) > 5:\n",
    "        body_1[str(year)] = temp\n",
    "\n",
    "box_plot = Boxplot(init_opts=opts.InitOpts(width=\"1200px\", height=\"730px\"))\n",
    "\n",
    "box_plot = (\n",
    "    box_plot.add_xaxis(xaxis_data=list(body_1.keys()))\n",
    "    .add_yaxis(series_name=\"body\", y_axis=box_plot.prepare_data(list(body_1.values())))\n",
    "    .set_global_opts(\n",
    "        title_opts=opts.TitleOpts(\n",
    "             title=\"Holistic analysis distribution\"\n",
    "        ),\n",
    "        datazoom_opts=opts.DataZoomOpts(),\n",
    "        tooltip_opts=opts.TooltipOpts(trigger=\"item\", axis_pointer_type=\"shadow\"),\n",
    "        xaxis_opts=opts.AxisOpts(\n",
    "            type_=\"category\",\n",
    "            boundary_gap=True,\n",
    "            splitarea_opts=opts.SplitAreaOpts(is_show=False),\n",
    "            axislabel_opts=opts.LabelOpts(formatter=\"{value}\"),\n",
    "            splitline_opts=opts.SplitLineOpts(is_show=False),\n",
    "        ),\n",
    "        yaxis_opts=opts.AxisOpts(\n",
    "            type_=\"value\",\n",
    "            name=\"\",\n",
    "            splitarea_opts=opts.SplitAreaOpts(\n",
    "                is_show=True, areastyle_opts=opts.AreaStyleOpts(opacity=1)\n",
    "            ),\n",
    "        ),\n",
    "    )\n",
    "    .set_series_opts(tooltip_opts=opts.TooltipOpts(formatter=\"{a}: {c}\"))\n",
    ")  \n",
    "\n",
    "box_plot.render(r\"./fox_html/month_emotion/body_1.html\")"
   ]
  },
  {
   "cell_type": "code",
   "execution_count": 42,
   "metadata": {
    "collapsed": false,
    "pycharm": {
     "name": "#%%\n"
    }
   },
   "outputs": [
    {
     "data": {
      "text/plain": [
       "'/Users/chunyangzhang/Desktop/macs30200/proj/code1.4/fox_html/month_emotion/body_2.html'"
      ]
     },
     "execution_count": 42,
     "metadata": {},
     "output_type": "execute_result"
    }
   ],
   "source": [
    "for year in y_time:\n",
    "    temp = []\n",
    "    for each in df[df['date'] == year]['body'].values.tolist():\n",
    "        num = []\n",
    "        for e in each.split('.'):\n",
    "            try:\n",
    "                num.append(TextBlob(e).sentiment[0])\n",
    "            except:\n",
    "                print(each)\n",
    "        temp.append(round(sum(num) / len(num), 2))\n",
    "    if len(temp) > 5:\n",
    "        body_2[str(year)] = temp\n",
    "\n",
    "box_plot = Boxplot(init_opts=opts.InitOpts(width=\"1200px\", height=\"730px\"))\n",
    "\n",
    "box_plot = (\n",
    "    box_plot.add_xaxis(xaxis_data=list(body_2.keys()))\n",
    "    .add_yaxis(series_name=\"body\", y_axis=box_plot.prepare_data(list(body_2.values())))\n",
    "    .set_global_opts(\n",
    "        title_opts=opts.TitleOpts(\n",
    "            title=\"Mean-taking analysis\"\n",
    "        ),\n",
    "        datazoom_opts=opts.DataZoomOpts(),\n",
    "        tooltip_opts=opts.TooltipOpts(trigger=\"item\", axis_pointer_type=\"shadow\"),\n",
    "        xaxis_opts=opts.AxisOpts(\n",
    "            type_=\"category\",\n",
    "            boundary_gap=True,\n",
    "            splitarea_opts=opts.SplitAreaOpts(is_show=False),\n",
    "            axislabel_opts=opts.LabelOpts(formatter=\"{value}\"),\n",
    "            splitline_opts=opts.SplitLineOpts(is_show=False),\n",
    "        ),\n",
    "        yaxis_opts=opts.AxisOpts(\n",
    "            type_=\"value\",\n",
    "            name=\"\",\n",
    "            splitarea_opts=opts.SplitAreaOpts(\n",
    "                is_show=True, areastyle_opts=opts.AreaStyleOpts(opacity=1)\n",
    "            ),\n",
    "        ),\n",
    "    )\n",
    "    .set_series_opts(tooltip_opts=opts.TooltipOpts(formatter=\"{a}: {c}\"))\n",
    ")  \n",
    "\n",
    "box_plot.render(r\"./fox_html/month_emotion/body_2.html\")"
   ]
  },
  {
   "cell_type": "code",
   "execution_count": 43,
   "metadata": {
    "pycharm": {
     "name": "#%%\n"
    }
   },
   "outputs": [],
   "source": [
    "#clustering\n",
    "#statisitcs and data visulization\n",
    "#results interpretation"
   ]
  },
  {
   "cell_type": "code",
   "execution_count": 44,
   "metadata": {
    "collapsed": false,
    "pycharm": {
     "name": "#%%\n"
    }
   },
   "outputs": [],
   "source": [
    "stopwords_file = open('data//stopwords.txt', 'r', encoding='utf-8')\n",
    "stopwords = [words.strip() for words in stopwords_file.readlines()]\n",
    "stopwords.append(' ')\n",
    "for year in  y_time:\n",
    "    temp = df[df['date']==year]['body'].values.tolist()\n",
    "    wordslist = []\n",
    "\n",
    "    for v in temp:\n",
    "        seg_list_after = []\n",
    "        seg_list = nltk.word_tokenize(v)\n",
    "        for seg in seg_list:\n",
    "            if seg not in stopwords:\n",
    "                seg_list_after.append(seg)\n",
    "        temp = ' '.join(seg_list_after)\n",
    "        wordslist.append(temp)\n",
    "\n",
    "    tf_idf_vectorizer = TfidfVectorizer()\n",
    "    tf_idf = tf_idf_vectorizer.fit_transform(wordslist)\n",
    "\n",
    "\n",
    "    # Feature words TF-IDF matrix\n",
    "    X = tf_idf.toarray()\n",
    "\n",
    "    # Selected Topics\n",
    "    n_topics = 5\n",
    "    # The number of top n_top_words topic words of each topic to output\n",
    "    n_top_words = 20\n",
    "\n",
    "    lda = LatentDirichletAllocation(\n",
    "        n_components=n_topics, max_iter=50,\n",
    "        learning_method='online',\n",
    "        learning_offset=50.,\n",
    "        random_state=0)\n",
    "    # Core, feed LDA with generated TF-IDF matrix\n",
    "    lda.fit(tf_idf)\n",
    "\n",
    "\n",
    "    # Visualization with pyLDAvis\n",
    "    data = pyLDAvis.sklearn.prepare(lda, tf_idf, tf_idf_vectorizer,mds='mmds')\n",
    "    try:\n",
    "        pyLDAvis.save_html(data, './fox_html/month_lda/lda_{}.html'.format(year.replace('/','-')))\n",
    "    except:\n",
    "        print(year)"
   ]
  },
  {
   "cell_type": "code",
   "execution_count": 45,
   "metadata": {
    "collapsed": false,
    "pycharm": {
     "name": "#%%\n"
    }
   },
   "outputs": [
    {
     "data": {
      "text/plain": [
       "Extreme weather                            607\n",
       "Climate change                             472\n",
       "Environmental crisis                       383\n",
       "Sea level rise                             379\n",
       "Paris Agreement                            321\n",
       "Renewable energy                           298\n",
       "Environmental policy                       260\n",
       "Greenhouse gases                           234\n",
       "Carbon emissions                           227\n",
       "Climate advocacy                           214\n",
       "Sustainable development                    148\n",
       "Climate adaptation                          64\n",
       "COP26 (or other UN climate conferences)     46\n",
       "Climate policy                              40\n",
       "Climate action                              33\n",
       "Biodiversity loss                           31\n",
       "Climate science                             24\n",
       "COP15                                        4\n",
       "Name: keyword, dtype: int64"
      ]
     },
     "execution_count": 45,
     "metadata": {},
     "output_type": "execute_result"
    }
   ],
   "source": [
    "df['keyword'].value_counts()"
   ]
  },
  {
   "cell_type": "code",
   "execution_count": 46,
   "metadata": {
    "pycharm": {
     "name": "#%%\n"
    }
   },
   "outputs": [],
   "source": [
    "#Count the number of occurrences of each of the 20 themes, and then draw a picture on a monthly basis\n",
    "key = df['keyword'].value_counts().index.tolist()[:-1]\n",
    "count = 0\n",
    "for k in key:\n",
    "    temp = df[df['keyword']==k].groupby('date')['keyword'].count().sort_index()\n",
    "    line = (\n",
    "            Line(init_opts=opts.InitOpts(width=\"1230px\", height=\"730px\", theme=ThemeType.MACARONS))\n",
    "            .add_xaxis(temp.index.astype('str').tolist())\n",
    "            .add_yaxis(k, temp.values.tolist(), is_smooth=True)\n",
    "            .set_series_opts(\n",
    "                areastyle_opts=opts.AreaStyleOpts(opacity=0.5),\n",
    "                label_opts=opts.LabelOpts(is_show=False),\n",
    "            )\n",
    "            .set_global_opts(\n",
    "                title_opts=opts.TitleOpts(title=\"quantity distribution\"),\n",
    "                datazoom_opts=opts.DataZoomOpts(),\n",
    "                xaxis_opts=opts.AxisOpts(\n",
    "                    axistick_opts=opts.AxisTickOpts(is_align_with_label=True),\n",
    "                    is_scale=False,\n",
    "                    boundary_gap=False,\n",
    "                    name='time',\n",
    "                    name_location='middle',\n",
    "                    name_gap=30,  \n",
    "                    name_textstyle_opts=opts.TextStyleOpts(\n",
    "                        font_family='Times New Roman',\n",
    "                        font_size=16  \n",
    "                    )),\n",
    "\n",
    "                yaxis_opts=opts.AxisOpts(\n",
    "                    name='quantity ',\n",
    "                    name_location='middle',\n",
    "                    name_gap=30,\n",
    "                    name_textstyle_opts=opts.TextStyleOpts(\n",
    "                        font_family='Times New Roman',\n",
    "                        font_size=16\n",
    "                        # font_weight='bolder',\n",
    "                    )),\n",
    "                # toolbox_opts=opts.ToolboxOpts() \n",
    "            )\n",
    "        )\n",
    "    line.render(f\"./fox_html/month_key/{k}.html\")"
   ]
  },
  {
   "cell_type": "code",
   "execution_count": 47,
   "metadata": {
    "collapsed": false,
    "pycharm": {
     "name": "#%%\n"
    }
   },
   "outputs": [
    {
     "data": {
      "text/plain": [
       "'/Users/chunyangzhang/Desktop/macs30200/proj/code1.4/fox_html/month_key/5_key.html'"
      ]
     },
     "execution_count": 47,
     "metadata": {},
     "output_type": "execute_result"
    }
   ],
   "source": [
    "key = df['keyword'].value_counts().index.tolist()[:5]\n",
    "line = (\n",
    "        Line(init_opts=opts.InitOpts(width=\"1230px\", height=\"730px\", theme=ThemeType.MACARONS))\n",
    "        .add_xaxis(y_time)\n",
    "        .set_series_opts(\n",
    "            areastyle_opts=opts.AreaStyleOpts(opacity=0.5),\n",
    "            label_opts=opts.LabelOpts(is_show=False),\n",
    "        )\n",
    "        .set_global_opts(\n",
    "            title_opts=opts.TitleOpts(title=\"quantity distribution\"),\n",
    "            datazoom_opts=opts.DataZoomOpts(),\n",
    "            xaxis_opts=opts.AxisOpts(\n",
    "                axistick_opts=opts.AxisTickOpts(is_align_with_label=True),\n",
    "                is_scale=False,\n",
    "                boundary_gap=False,\n",
    "                name='time',\n",
    "                name_location='middle',\n",
    "                name_gap=30,  \n",
    "                name_textstyle_opts=opts.TextStyleOpts(\n",
    "                    font_family='Times New Roman',\n",
    "                    font_size=16  \n",
    "                )),\n",
    "\n",
    "            yaxis_opts=opts.AxisOpts(\n",
    "                name='quantity ',\n",
    "                name_location='middle',\n",
    "                name_gap=30,\n",
    "                name_textstyle_opts=opts.TextStyleOpts(\n",
    "                    font_family='Times New Roman',\n",
    "                    font_size=16\n",
    "                    # font_weight='bolder',\n",
    "                )),\n",
    "            # toolbox_opts=opts.ToolboxOpts() \n",
    "        )\n",
    "    )\n",
    "\n",
    "for ke in key:\n",
    "    num = {}\n",
    "    for i in ['2019/1', '2019/2', '2019/3', '2019/4', '2019/5', '2019/6', '2019/7', '2019/8', '2019/9','2019/10', '2019/11', '2019/12', '2020/1', '2020/2', '2020/3', '2020/4', '2020/5', '2020/6', '2020/7', '2020/8', '2020/9','2020/10', '2020/11', '2020/12', '2021/1',  '2021/2', '2021/3', '2021/4', '2021/5', '2021/6', '2021/7', '2021/8', '2021/9', '2021/10', '2021/11', '2021/12','2022/1',  '2022/2', '2022/3', '2022/4', '2022/5', '2022/6', '2022/7', '2022/8', '2022/9','2022/10', '2022/11', '2022/12',]:\n",
    "        num[i] = 0\n",
    "    temp = df[df['keyword']==ke].groupby('date')['keyword'].count().sort_index()\n",
    "    for k,v in temp.to_dict().items():\n",
    "        if k in num:\n",
    "            num[k] = v\n",
    "\n",
    "    line.add_yaxis(ke, list(num.values()), is_smooth=True)\n",
    "\n",
    "line.render(f\"./fox_html/month_key/5_key.html\")"
   ]
  },
  {
   "attachments": {},
   "cell_type": "markdown",
   "metadata": {
    "pycharm": {
     "name": "#%% md\n"
    }
   },
   "source": [
    "# CNN and Fox"
   ]
  },
  {
   "attachments": {},
   "cell_type": "markdown",
   "metadata": {
    "pycharm": {
     "name": "#%% md\n"
    }
   },
   "source": [
    "### Yearly （2005-2022）"
   ]
  },
  {
   "cell_type": "code",
   "execution_count": 48,
   "metadata": {
    "pycharm": {
     "name": "#%%\n"
    }
   },
   "outputs": [],
   "source": [
    "#2005-2022, yearly\n",
    "#sentiment analysis\n",
    "#statisitcs and data visulization\n",
    "#results interpretation"
   ]
  },
  {
   "cell_type": "code",
   "execution_count": 49,
   "metadata": {
    "collapsed": false,
    "pycharm": {
     "name": "#%%\n"
    }
   },
   "outputs": [],
   "source": [
    "df1 = pd.read_csv(\"./data/news_cnn.csv\")\n",
    "df2 = pd.read_csv(\"./data/fox_balanced.csv\")\n",
    "df = pd.concat([df1,df2])\n",
    "df.dropna(inplace=True)\n",
    "df['date'] = pd.to_datetime(df['date']).dt.year"
   ]
  },
  {
   "cell_type": "code",
   "execution_count": 50,
   "metadata": {
    "collapsed": false,
    "pycharm": {
     "name": "#%%\n"
    }
   },
   "outputs": [
    {
     "data": {
      "text/plain": [
       "2015    6264\n",
       "2021    5354\n",
       "2022    5217\n",
       "2019    4998\n",
       "2020    4202\n",
       "2017    3370\n",
       "2018    2971\n",
       "2016    2387\n",
       "2014    1512\n",
       "2013    1388\n",
       "2012    1292\n",
       "2011     810\n",
       "2010       2\n",
       "Name: date, dtype: int64"
      ]
     },
     "execution_count": 50,
     "metadata": {},
     "output_type": "execute_result"
    }
   ],
   "source": [
    "df['date'].value_counts()#remove 2010"
   ]
  },
  {
   "cell_type": "code",
   "execution_count": 51,
   "metadata": {
    "collapsed": false,
    "pycharm": {
     "name": "#%%\n"
    }
   },
   "outputs": [],
   "source": [
    "df = df[df['date']!=2010]"
   ]
  },
  {
   "cell_type": "code",
   "execution_count": 52,
   "metadata": {
    "collapsed": false,
    "pycharm": {
     "name": "#%%\n"
    }
   },
   "outputs": [
    {
     "data": {
      "text/plain": [
       "'/Users/chunyangzhang/Desktop/macs30200/proj/code1.4/cnn_fox_html/year_emotion/headline.html'"
      ]
     },
     "execution_count": 52,
     "metadata": {},
     "output_type": "execute_result"
    }
   ],
   "source": [
    "#headline sentiment analysis\n",
    "headline = {}\n",
    "for year in df['date'].value_counts().sort_index().index.tolist():\n",
    "    temp = []\n",
    "    for each in df[df['date'] == year]['headline'].values.tolist():\n",
    "        try:\n",
    "            temp.append(TextBlob(each).sentiment[0])\n",
    "        except:\n",
    "            print(each)\n",
    "\n",
    "    headline[str(year)] = temp\n",
    "box_plot = Boxplot(init_opts=opts.InitOpts(width=\"1200px\", height=\"730px\"))\n",
    "\n",
    "box_plot = (\n",
    " \n",
    "    box_plot.add_xaxis(xaxis_data=list(headline.keys())[1:])\n",
    "    .add_yaxis(series_name=\"headline\", y_axis=box_plot.prepare_data(list(headline.values())[1:]))\n",
    "    .set_global_opts(\n",
    "        title_opts=opts.TitleOpts(\n",
    "            title=\"headline Emotional distribution\"\n",
    "        ),\n",
    "        tooltip_opts=opts.TooltipOpts(trigger=\"item\", axis_pointer_type=\"shadow\"),\n",
    "        xaxis_opts=opts.AxisOpts(\n",
    "            type_=\"category\",\n",
    "            boundary_gap=True,\n",
    "            splitarea_opts=opts.SplitAreaOpts(is_show=False),\n",
    "            axislabel_opts=opts.LabelOpts(formatter=\"{value}\"),\n",
    "            splitline_opts=opts.SplitLineOpts(is_show=False),\n",
    "        ),\n",
    "        yaxis_opts=opts.AxisOpts(\n",
    "            type_=\"value\",\n",
    "            name=\"\",\n",
    "            splitarea_opts=opts.SplitAreaOpts(\n",
    "                is_show=True, areastyle_opts=opts.AreaStyleOpts(opacity=1)\n",
    "            ),\n",
    "        ),\n",
    "    )\n",
    "    .set_series_opts(tooltip_opts=opts.TooltipOpts(formatter=\"{a}: {c}\"))\n",
    ") \n",
    "\n",
    "box_plot.render(r\"./cnn_fox_html/year_emotion/headline.html\")"
   ]
  },
  {
   "cell_type": "code",
   "execution_count": 53,
   "metadata": {
    "collapsed": false,
    "pycharm": {
     "name": "#%%\n"
    }
   },
   "outputs": [
    {
     "data": {
      "text/plain": [
       "'/Users/chunyangzhang/Desktop/macs30200/proj/code1.4/cnn_fox_html/year_emotion/body_2.html'"
      ]
     },
     "execution_count": 53,
     "metadata": {},
     "output_type": "execute_result"
    }
   ],
   "source": [
    "body_1 = {}  # Holistic analysis\n",
    "body_2 = {}  # Mean-taking analysis\n",
    "for year in df['date'].value_counts().sort_index().index.tolist():\n",
    "    temp = []\n",
    "    for each in df[df['date'] == year]['body'].values.tolist():\n",
    "        try:\n",
    "            temp.append(TextBlob(each).sentiment[0])\n",
    "        except:\n",
    "            print(each)\n",
    "\n",
    "    body_1[str(year)] = temp\n",
    "box_plot = Boxplot(init_opts=opts.InitOpts(width=\"1200px\", height=\"730px\"))\n",
    "\n",
    "box_plot = (\n",
    "    box_plot.add_xaxis(xaxis_data=list(body_1.keys())[1:])\n",
    "    .add_yaxis(series_name=\"body\", y_axis=box_plot.prepare_data(list(body_1.values())[1:]))\n",
    "    .set_global_opts(\n",
    "        title_opts=opts.TitleOpts(\n",
    "            title=\"Holistic analysis distribution\"\n",
    "        ),\n",
    "        tooltip_opts=opts.TooltipOpts(trigger=\"item\", axis_pointer_type=\"shadow\"),\n",
    "        xaxis_opts=opts.AxisOpts(\n",
    "            type_=\"category\",\n",
    "            boundary_gap=True,\n",
    "            splitarea_opts=opts.SplitAreaOpts(is_show=False),\n",
    "            axislabel_opts=opts.LabelOpts(formatter=\"{value}\"),\n",
    "            splitline_opts=opts.SplitLineOpts(is_show=False),\n",
    "        ),\n",
    "        yaxis_opts=opts.AxisOpts(\n",
    "            type_=\"value\",\n",
    "            name=\"\",\n",
    "            splitarea_opts=opts.SplitAreaOpts(\n",
    "                is_show=True, areastyle_opts=opts.AreaStyleOpts(opacity=1)\n",
    "            ),\n",
    "        ),\n",
    "    )\n",
    "    .set_series_opts(tooltip_opts=opts.TooltipOpts(formatter=\"{a}: {c}\"))\n",
    ")  \n",
    "\n",
    "box_plot.render(r\"./cnn_fox_html/year_emotion/body_1.html\")\n",
    "for year in df['date'].value_counts().sort_index().index.tolist():\n",
    "    temp = []\n",
    "    for each in df[df['date'] == year]['body'].values.tolist():\n",
    "        num = []\n",
    "        for e in each.split('.'):\n",
    "            try:\n",
    "                num.append(TextBlob(e).sentiment[0])\n",
    "            except:\n",
    "                print(each)\n",
    "        temp.append(round(sum(num) / len(num), 2))\n",
    "\n",
    "    body_2[str(year)] = temp\n",
    "\n",
    "box_plot = Boxplot(init_opts=opts.InitOpts(width=\"1200px\", height=\"730px\"))\n",
    "\n",
    "box_plot = (\n",
    "    box_plot.add_xaxis(xaxis_data=list(body_2.keys())[1:])\n",
    "    .add_yaxis(series_name=\"body\", y_axis=box_plot.prepare_data(list(body_2.values())[1:]))\n",
    "    .set_global_opts(\n",
    "        title_opts=opts.TitleOpts(\n",
    "            title=\"Mean-taking analysis\"\n",
    "        ),\n",
    "        tooltip_opts=opts.TooltipOpts(trigger=\"item\", axis_pointer_type=\"shadow\"),\n",
    "        xaxis_opts=opts.AxisOpts(\n",
    "            type_=\"category\",\n",
    "            boundary_gap=True,\n",
    "            splitarea_opts=opts.SplitAreaOpts(is_show=False),\n",
    "            axislabel_opts=opts.LabelOpts(formatter=\"{value}\"),\n",
    "            splitline_opts=opts.SplitLineOpts(is_show=False),\n",
    "        ),\n",
    "        yaxis_opts=opts.AxisOpts(\n",
    "            type_=\"value\",\n",
    "            name=\"\",\n",
    "            splitarea_opts=opts.SplitAreaOpts(\n",
    "                is_show=True, areastyle_opts=opts.AreaStyleOpts(opacity=1)\n",
    "            ),\n",
    "        ),\n",
    "    )\n",
    "    .set_series_opts(tooltip_opts=opts.TooltipOpts(formatter=\"{a}: {c}\"))\n",
    ")  \n",
    "\n",
    "box_plot.render(r\"./cnn_fox_html/year_emotion/body_2.html\")"
   ]
  },
  {
   "cell_type": "code",
   "execution_count": 54,
   "metadata": {
    "pycharm": {
     "name": "#%%\n"
    }
   },
   "outputs": [],
   "source": [
    "#clustering\n",
    "#statisitcs and data visulization\n",
    "#results interpretation"
   ]
  },
  {
   "cell_type": "code",
   "execution_count": 55,
   "metadata": {
    "collapsed": false,
    "pycharm": {
     "name": "#%%\n"
    }
   },
   "outputs": [],
   "source": [
    "stopwords_file = open('data//stopwords.txt', 'r', encoding='utf-8')\n",
    "stopwords = [words.strip() for words in stopwords_file.readlines()]\n",
    "stopwords.append(' ')\n",
    "for year in  df['date'].value_counts().sort_index().index.tolist():\n",
    "    temp = df[df['date']==year]['body'].values.tolist()\n",
    "    wordslist = []\n",
    "\n",
    "    for v in temp:\n",
    "        seg_list_after = []\n",
    "        seg_list = nltk.word_tokenize(v)\n",
    "        for seg in seg_list:\n",
    "            if seg not in stopwords:\n",
    "                seg_list_after.append(seg)\n",
    "        temp = ' '.join(seg_list_after)\n",
    "        wordslist.append(temp)\n",
    "\n",
    "    tf_idf_vectorizer = TfidfVectorizer()\n",
    "    tf_idf = tf_idf_vectorizer.fit_transform(wordslist)\n",
    "\n",
    "\n",
    "    # Feature words TF-IDF matrix\n",
    "    X = tf_idf.toarray()\n",
    "\n",
    "    # Selected Topics\n",
    "    n_topics = 5\n",
    "    # The number of top n_top_words topic words of each topic to output\n",
    "    n_top_words = 20\n",
    "\n",
    "    lda = LatentDirichletAllocation(\n",
    "        n_components=n_topics, max_iter=50,\n",
    "        learning_method='online',\n",
    "        learning_offset=50.,\n",
    "        random_state=0)\n",
    "    # Core, feed LDA with generated TF-IDF matrix\n",
    "    lda.fit(tf_idf)\n",
    "\n",
    "\n",
    "    # Visualization with pyLDAvis\n",
    "    data = pyLDAvis.sklearn.prepare(lda, tf_idf, tf_idf_vectorizer,mds='mmds')\n",
    "    try:\n",
    "        pyLDAvis.save_html(data, './cnn_fox_html/year_lda/lda_{}.html'.format(year))\n",
    "    except:\n",
    "        print(year)"
   ]
  },
  {
   "cell_type": "code",
   "execution_count": 56,
   "metadata": {
    "pycharm": {
     "name": "#%%\n"
    }
   },
   "outputs": [
    {
     "data": {
      "text/plain": [
       "Climate change                             11864\n",
       "Extreme weather                             4343\n",
       "Renewable energy                            2745\n",
       "Environmental crisis                        2599\n",
       "Paris Agreement                             2579\n",
       "Sea level rise                              2322\n",
       "Carbon emissions                            2232\n",
       "Environmental policy                        2173\n",
       "Sustainable development                     2142\n",
       "Greenhouse gases                            1824\n",
       "Climate advocacy                            1284\n",
       "Climate action                              1080\n",
       "Climate policy                              1054\n",
       "Climate science                              799\n",
       "Climate adaptation                           372\n",
       "Biodiversity loss                            230\n",
       "COP26 (or other UN climate conferences)      108\n",
       "COP15                                         15\n",
       "Name: keyword, dtype: int64"
      ]
     },
     "execution_count": 56,
     "metadata": {},
     "output_type": "execute_result"
    }
   ],
   "source": [
    "#Count the number of occurrences of each of the 20 themes, and then draw a picture by year\n",
    "df['keyword'].value_counts()"
   ]
  },
  {
   "cell_type": "code",
   "execution_count": 57,
   "metadata": {
    "collapsed": false,
    "pycharm": {
     "name": "#%%\n"
    }
   },
   "outputs": [],
   "source": [
    "key = df['keyword'].value_counts().index.tolist()[:-1]\n",
    "count = 0\n",
    "for k in key:\n",
    "    temp = df[df['keyword'] == k].groupby('date')['keyword'].count().sort_index()\n",
    "    line = (\n",
    "        Line(init_opts=opts.InitOpts(width=\"1230px\", height=\"730px\", theme=ThemeType.MACARONS))\n",
    "        .add_xaxis(temp.index.astype('str').tolist())\n",
    "        .add_yaxis(k, temp.values.tolist(), is_smooth=True)\n",
    "        .set_series_opts(\n",
    "            areastyle_opts=opts.AreaStyleOpts(opacity=0.5),\n",
    "            label_opts=opts.LabelOpts(is_show=False),\n",
    "        )\n",
    "        .set_global_opts(\n",
    "            title_opts=opts.TitleOpts(title=\"quantity distribution\"),\n",
    "            xaxis_opts=opts.AxisOpts(\n",
    "                axistick_opts=opts.AxisTickOpts(is_align_with_label=True),\n",
    "                is_scale=False,\n",
    "                boundary_gap=False,\n",
    "                name='time',\n",
    "                name_location='middle',\n",
    "                name_gap=30,  \n",
    "                name_textstyle_opts=opts.TextStyleOpts(\n",
    "                    font_family='Times New Roman',\n",
    "                    font_size=16  \n",
    "                )),\n",
    "\n",
    "            yaxis_opts=opts.AxisOpts(\n",
    "                name='quantity ',\n",
    "                name_location='middle',\n",
    "                name_gap=30,\n",
    "                name_textstyle_opts=opts.TextStyleOpts(\n",
    "                    font_family='Times New Roman',\n",
    "                    font_size=16\n",
    "                    # font_weight='bolder',\n",
    "                )),\n",
    "            # toolbox_opts=opts.ToolboxOpts() \n",
    "        )\n",
    "    )\n",
    "    line.render(f\"./cnn_fox_html/year_key/{k}.html\")\n",
    "\n"
   ]
  },
  {
   "cell_type": "code",
   "execution_count": 58,
   "metadata": {
    "collapsed": false,
    "pycharm": {
     "name": "#%%\n"
    }
   },
   "outputs": [
    {
     "data": {
      "text/plain": [
       "'/Users/chunyangzhang/Desktop/macs30200/proj/code1.4/cnn_fox_html/year_key/5_key.html'"
      ]
     },
     "execution_count": 58,
     "metadata": {},
     "output_type": "execute_result"
    }
   ],
   "source": [
    "key = df['keyword'].value_counts().index.tolist()[:5]\n",
    "line = (\n",
    "    Line(init_opts=opts.InitOpts(width=\"1230px\", height=\"730px\", theme=ThemeType.MACARONS))\n",
    "    .add_xaxis(temp.index.astype('str').tolist())\n",
    "    .set_series_opts(\n",
    "        areastyle_opts=opts.AreaStyleOpts(opacity=0.5),\n",
    "        label_opts=opts.LabelOpts(is_show=False),\n",
    "    )\n",
    "    .set_global_opts(\n",
    "        title_opts=opts.TitleOpts(title=\"quantity distribution\"),\n",
    "        xaxis_opts=opts.AxisOpts(\n",
    "            axistick_opts=opts.AxisTickOpts(is_align_with_label=True),\n",
    "            is_scale=False,\n",
    "            boundary_gap=False,\n",
    "            name='time',\n",
    "            name_location='middle',\n",
    "            name_gap=30,  \n",
    "            name_textstyle_opts=opts.TextStyleOpts(\n",
    "                font_family='Times New Roman',\n",
    "                font_size=16  \n",
    "            )),\n",
    "\n",
    "        yaxis_opts=opts.AxisOpts(\n",
    "            name='quantity ',\n",
    "            name_location='middle',\n",
    "            name_gap=30,\n",
    "            name_textstyle_opts=opts.TextStyleOpts(\n",
    "                font_family='Times New Roman',\n",
    "                font_size=16\n",
    "                # font_weight='bolder',\n",
    "            )),\n",
    "        # toolbox_opts=opts.ToolboxOpts() \n",
    "    )\n",
    ")\n",
    "\n",
    "for ke in key:\n",
    "    num = {}\n",
    "    for i in range(2011, 2023):\n",
    "        num[i] = 0\n",
    "\n",
    "    temp = df[df['keyword'] == ke].groupby('date')['keyword'].count().sort_index()\n",
    "\n",
    "    for k, v in temp.to_dict().items():\n",
    "        if k in num:\n",
    "            num[k] = v\n",
    "\n",
    "\n",
    "    line.add_yaxis(ke, list(num.values()), is_smooth=True)\n",
    "\n",
    "line.render(f\"./cnn_fox_html/year_key/5_key.html\")"
   ]
  },
  {
   "attachments": {},
   "cell_type": "markdown",
   "metadata": {
    "pycharm": {
     "name": "#%% md\n"
    }
   },
   "source": [
    "### Monthly （2019， 2020， 2021， 2022）"
   ]
  },
  {
   "cell_type": "code",
   "execution_count": 59,
   "metadata": {
    "pycharm": {
     "name": "#%%\n"
    }
   },
   "outputs": [],
   "source": [
    "#2019-2022, monthly\n",
    "#sentiment analysis\n",
    "#statisitcs and data visulization\n",
    "#results interpretation"
   ]
  },
  {
   "cell_type": "code",
   "execution_count": 60,
   "metadata": {
    "collapsed": false,
    "pycharm": {
     "name": "#%%\n"
    }
   },
   "outputs": [],
   "source": [
    "df1 = pd.read_csv(\"./data/news_cnn.csv\")\n",
    "df2 = pd.read_csv(\"./data/fox_balanced.csv\")\n",
    "df = pd.concat([df1,df2])\n",
    "df.dropna(inplace=True)\n",
    "df['year'] = pd.to_datetime(df['date']).dt.year\n",
    "df = df[df['year'] >= 2019]\n",
    "df['date'] = pd.to_datetime(df['date']).dt.year.astype(str) + '/' + pd.to_datetime(df['date']).dt.month.astype(str)\n",
    "y_time = ['2019/1', '2019/2', '2019/3', '2019/4', '2019/5', '2019/6', '2019/7', '2019/8', '2019/9', '2019/10',\n",
    "          '2019/11', '2019/12', '2020/1', '2020/2', '2020/3', '2020/4', '2020/5', '2020/6', '2020/7', '2020/8',\n",
    "          '2020/9', '2020/10', '2020/11', '2020/12', '2021/1', '2021/2', '2021/3', '2021/4', '2021/5', '2021/6',\n",
    "          '2021/7', '2021/8', '2021/9', '2021/10', '2021/11', '2021/12', '2022/1', '2022/2', '2022/3', '2022/4',\n",
    "          '2022/5', '2022/6', '2022/7', '2022/8', '2022/9', '2022/10', '2022/11', '2022/12', ]"
   ]
  },
  {
   "cell_type": "code",
   "execution_count": 61,
   "metadata": {
    "collapsed": false,
    "pycharm": {
     "name": "#%%\n"
    }
   },
   "outputs": [
    {
     "data": {
      "text/plain": [
       "'/Users/chunyangzhang/Desktop/macs30200/proj/code1.4/cnn_fox_html/month_emotion/headline.html'"
      ]
     },
     "execution_count": 61,
     "metadata": {},
     "output_type": "execute_result"
    }
   ],
   "source": [
    "headline = {}\n",
    "for y in  y_time:\n",
    "    temp = []\n",
    "    for each in df[df['date']==y]['headline'].values.tolist():\n",
    "        try:\n",
    "            temp.append(TextBlob(each).sentiment[0])\n",
    "        except:\n",
    "            print(each)\n",
    "    if len(temp) > 5:\n",
    "        headline[str(y)] = temp\n",
    "\n",
    "box_plot = Boxplot(init_opts=opts.InitOpts(width=\"1200px\", height=\"730px\"))\n",
    "\n",
    "box_plot = (\n",
    "    \n",
    "    box_plot.add_xaxis(xaxis_data=list(headline.keys()))\n",
    "    .add_yaxis(series_name=\"headline\", y_axis=box_plot.prepare_data(list(headline.values())))\n",
    "    .set_global_opts(\n",
    "        title_opts=opts.TitleOpts(\n",
    "             title=\"headline Emotional distribution\"\n",
    "        ),\n",
    "        datazoom_opts=opts.DataZoomOpts(),\n",
    "        tooltip_opts=opts.TooltipOpts(trigger=\"item\", axis_pointer_type=\"shadow\"),\n",
    "        xaxis_opts=opts.AxisOpts(\n",
    "            type_=\"category\",\n",
    "            boundary_gap=True,\n",
    "            splitarea_opts=opts.SplitAreaOpts(is_show=False),\n",
    "            axislabel_opts=opts.LabelOpts(formatter=\"{value}\"),\n",
    "            splitline_opts=opts.SplitLineOpts(is_show=False),\n",
    "        ),\n",
    "        yaxis_opts=opts.AxisOpts(\n",
    "            type_=\"value\",\n",
    "            name=\"\",\n",
    "            splitarea_opts=opts.SplitAreaOpts(\n",
    "                is_show=True, areastyle_opts=opts.AreaStyleOpts(opacity=1)\n",
    "            ),\n",
    "        ),\n",
    "    )\n",
    "    .set_series_opts(tooltip_opts=opts.TooltipOpts(formatter=\"{a}: {c}\"))\n",
    ")  \n",
    "\n",
    "box_plot.render(r\"./cnn_fox_html/month_emotion/headline.html\")"
   ]
  },
  {
   "cell_type": "code",
   "execution_count": 62,
   "metadata": {
    "collapsed": false,
    "pycharm": {
     "name": "#%%\n"
    }
   },
   "outputs": [
    {
     "data": {
      "text/plain": [
       "'/Users/chunyangzhang/Desktop/macs30200/proj/code1.4/cnn_fox_html/month_emotion/body_2.html'"
      ]
     },
     "execution_count": 62,
     "metadata": {},
     "output_type": "execute_result"
    }
   ],
   "source": [
    "body_1 = {}  # Holistic analysis\n",
    "body_2 = {}  # Mean-taking analysis\n",
    "for year in y_time:\n",
    "    temp = []\n",
    "    for each in df[df['date'] == year]['body'].values.tolist():\n",
    "        try:\n",
    "            temp.append(TextBlob(each).sentiment[0])\n",
    "        except:\n",
    "            print(each)\n",
    "    if len(temp) > 5:\n",
    "        body_1[str(year)] = temp\n",
    "\n",
    "box_plot = Boxplot(init_opts=opts.InitOpts(width=\"1200px\", height=\"730px\"))\n",
    "\n",
    "box_plot = (\n",
    "    box_plot.add_xaxis(xaxis_data=list(body_1.keys()))\n",
    "    .add_yaxis(series_name=\"body\", y_axis=box_plot.prepare_data(list(body_1.values())))\n",
    "    .set_global_opts(\n",
    "        title_opts=opts.TitleOpts(\n",
    "            title=\"Holistic analysis distribution\"\n",
    "        ),\n",
    "        datazoom_opts=opts.DataZoomOpts(),\n",
    "        tooltip_opts=opts.TooltipOpts(trigger=\"item\", axis_pointer_type=\"shadow\"),\n",
    "        xaxis_opts=opts.AxisOpts(\n",
    "            type_=\"category\",\n",
    "            boundary_gap=True,\n",
    "            splitarea_opts=opts.SplitAreaOpts(is_show=False),\n",
    "            axislabel_opts=opts.LabelOpts(formatter=\"{value}\"),\n",
    "            splitline_opts=opts.SplitLineOpts(is_show=False),\n",
    "        ),\n",
    "        yaxis_opts=opts.AxisOpts(\n",
    "            type_=\"value\",\n",
    "            name=\"\",\n",
    "            splitarea_opts=opts.SplitAreaOpts(\n",
    "                is_show=True, areastyle_opts=opts.AreaStyleOpts(opacity=1)\n",
    "            ),\n",
    "        ),\n",
    "    )\n",
    "    .set_series_opts(tooltip_opts=opts.TooltipOpts(formatter=\"{a}: {c}\"))\n",
    ")  \n",
    "\n",
    "box_plot.render(r\"./cnn_fox_html/month_emotion/body_1.html\")\n",
    "for year in y_time:\n",
    "    temp = []\n",
    "    for each in df[df['date'] == year]['body'].values.tolist():\n",
    "        num = []\n",
    "        for e in each.split('.'):\n",
    "            try:\n",
    "                num.append(TextBlob(e).sentiment[0])\n",
    "            except:\n",
    "                print(each)\n",
    "        temp.append(round(sum(num) / len(num), 2))\n",
    "    if len(temp) > 5:\n",
    "        body_2[str(year)] = temp\n",
    "\n",
    "box_plot = Boxplot(init_opts=opts.InitOpts(width=\"1200px\", height=\"730px\"))\n",
    "\n",
    "box_plot = (\n",
    "    box_plot.add_xaxis(xaxis_data=list(body_2.keys()))\n",
    "    .add_yaxis(series_name=\"body\", y_axis=box_plot.prepare_data(list(body_2.values())))\n",
    "    .set_global_opts(\n",
    "        title_opts=opts.TitleOpts(\n",
    "            title=\"Mean-taking analysis\"\n",
    "        ),\n",
    "        datazoom_opts=opts.DataZoomOpts(),\n",
    "        tooltip_opts=opts.TooltipOpts(trigger=\"item\", axis_pointer_type=\"shadow\"),\n",
    "        xaxis_opts=opts.AxisOpts(\n",
    "            type_=\"category\",\n",
    "            boundary_gap=True,\n",
    "            splitarea_opts=opts.SplitAreaOpts(is_show=False),\n",
    "            axislabel_opts=opts.LabelOpts(formatter=\"{value}\"),\n",
    "            splitline_opts=opts.SplitLineOpts(is_show=False),\n",
    "        ),\n",
    "        yaxis_opts=opts.AxisOpts(\n",
    "            type_=\"value\",\n",
    "            name=\"\",\n",
    "            splitarea_opts=opts.SplitAreaOpts(\n",
    "                is_show=True, areastyle_opts=opts.AreaStyleOpts(opacity=1)\n",
    "            ),\n",
    "        ),\n",
    "    )\n",
    "    .set_series_opts(tooltip_opts=opts.TooltipOpts(formatter=\"{a}: {c}\"))\n",
    ")  \n",
    "\n",
    "box_plot.render(r\"./cnn_fox_html/month_emotion/body_2.html\")"
   ]
  },
  {
   "cell_type": "code",
   "execution_count": 63,
   "metadata": {
    "pycharm": {
     "name": "#%%\n"
    }
   },
   "outputs": [],
   "source": [
    "#clustering\n",
    "#statisitcs and data visulization\n",
    "#results interpretation"
   ]
  },
  {
   "cell_type": "code",
   "execution_count": 64,
   "metadata": {
    "collapsed": false,
    "pycharm": {
     "name": "#%%\n"
    }
   },
   "outputs": [],
   "source": [
    "stopwords_file = open('data//stopwords.txt', 'r', encoding='utf-8')\n",
    "stopwords = [words.strip() for words in stopwords_file.readlines()]\n",
    "stopwords.append(' ')\n",
    "for year in  y_time:\n",
    "    temp = df[df['date']==year]['body'].values.tolist()\n",
    "    wordslist = []\n",
    "\n",
    "    for v in temp:\n",
    "        seg_list_after = []\n",
    "        seg_list = nltk.word_tokenize(v)\n",
    "        for seg in seg_list:\n",
    "            if seg not in stopwords:\n",
    "                seg_list_after.append(seg)\n",
    "        temp = ' '.join(seg_list_after)\n",
    "        wordslist.append(temp)\n",
    "\n",
    "    tf_idf_vectorizer = TfidfVectorizer()\n",
    "    tf_idf = tf_idf_vectorizer.fit_transform(wordslist)\n",
    "\n",
    "\n",
    "    # Feature words TF-IDF matrix\n",
    "    X = tf_idf.toarray()\n",
    "\n",
    "    # Selected Topics\n",
    "    n_topics = 5\n",
    "    # The number of top n_top_words topic words of each topic to output\n",
    "    n_top_words = 20\n",
    "\n",
    "    lda = LatentDirichletAllocation(\n",
    "        n_components=n_topics, max_iter=50,\n",
    "        learning_method='online',\n",
    "        learning_offset=50.,\n",
    "        random_state=0)\n",
    "    # Core, feed LDA with generated TF-IDF matrix\n",
    "    lda.fit(tf_idf)\n",
    "\n",
    "\n",
    "    # Visualization with pyLDAvis\n",
    "    data = pyLDAvis.sklearn.prepare(lda, tf_idf, tf_idf_vectorizer,mds='mmds')\n",
    "    try:\n",
    "        pyLDAvis.save_html(data, './cnn_fox_html/month_lda/lda_{}.html'.format(year.replace('/','-')))\n",
    "    except:\n",
    "        print(year)"
   ]
  },
  {
   "cell_type": "code",
   "execution_count": 65,
   "metadata": {
    "pycharm": {
     "name": "#%%\n"
    }
   },
   "outputs": [],
   "source": [
    "# 20 topics count the number of times each topic appears, and then draw the picture by month"
   ]
  },
  {
   "cell_type": "code",
   "execution_count": 66,
   "metadata": {
    "collapsed": false,
    "pycharm": {
     "name": "#%%\n"
    }
   },
   "outputs": [
    {
     "data": {
      "text/plain": [
       "Climate change                             8182\n",
       "Extreme weather                            2318\n",
       "Environmental crisis                       1425\n",
       "Sea level rise                             1014\n",
       "Paris Agreement                             966\n",
       "Carbon emissions                            933\n",
       "Renewable energy                            929\n",
       "Environmental policy                        868\n",
       "Sustainable development                     671\n",
       "Greenhouse gases                            533\n",
       "Climate action                              474\n",
       "Climate advocacy                            449\n",
       "Climate policy                              426\n",
       "Climate science                             232\n",
       "Climate adaptation                          147\n",
       "Biodiversity loss                           103\n",
       "COP26 (or other UN climate conferences)      92\n",
       "COP15                                         9\n",
       "Name: keyword, dtype: int64"
      ]
     },
     "execution_count": 66,
     "metadata": {},
     "output_type": "execute_result"
    }
   ],
   "source": [
    "df['keyword'].value_counts()"
   ]
  },
  {
   "cell_type": "code",
   "execution_count": 67,
   "metadata": {
    "collapsed": false,
    "pycharm": {
     "name": "#%%\n"
    }
   },
   "outputs": [],
   "source": [
    "key = df['keyword'].value_counts().index.tolist()[:-1]\n",
    "count = 0\n",
    "for k in key:\n",
    "    temp = df[df['keyword'] == k].groupby('date')['keyword'].count().sort_index()\n",
    "    line = (\n",
    "        Line(init_opts=opts.InitOpts(width=\"1230px\", height=\"730px\", theme=ThemeType.MACARONS))\n",
    "        .add_xaxis(temp.index.astype('str').tolist())\n",
    "        .add_yaxis(k, temp.values.tolist(), is_smooth=True)\n",
    "        .set_series_opts(\n",
    "            areastyle_opts=opts.AreaStyleOpts(opacity=0.5),\n",
    "            label_opts=opts.LabelOpts(is_show=False),\n",
    "        )\n",
    "        .set_global_opts(\n",
    "            title_opts=opts.TitleOpts(title=\"quantity distribution\"),\n",
    "            datazoom_opts=opts.DataZoomOpts(),\n",
    "            xaxis_opts=opts.AxisOpts(\n",
    "                axistick_opts=opts.AxisTickOpts(is_align_with_label=True),\n",
    "                is_scale=False,\n",
    "                boundary_gap=False,\n",
    "                name='time',\n",
    "                name_location='middle',\n",
    "                name_gap=30,  \n",
    "                name_textstyle_opts=opts.TextStyleOpts(\n",
    "                    font_family='Times New Roman',\n",
    "                    font_size=16  \n",
    "                )),\n",
    "\n",
    "            yaxis_opts=opts.AxisOpts(\n",
    "                name='quantity ',\n",
    "                name_location='middle',\n",
    "                name_gap=30,\n",
    "                name_textstyle_opts=opts.TextStyleOpts(\n",
    "                    font_family='Times New Roman',\n",
    "                    font_size=16\n",
    "                    # font_weight='bolder',\n",
    "                )),\n",
    "            # toolbox_opts=opts.ToolboxOpts() \n",
    "        )\n",
    "    )\n",
    "    line.render(f\"./cnn_fox_html/month_key/{k}.html\")\n"
   ]
  },
  {
   "cell_type": "code",
   "execution_count": 68,
   "metadata": {
    "collapsed": false,
    "pycharm": {
     "name": "#%%\n"
    }
   },
   "outputs": [
    {
     "data": {
      "text/plain": [
       "'/Users/chunyangzhang/Desktop/macs30200/proj/code1.4/cnn_fox_html/month_key/5_key.html'"
      ]
     },
     "execution_count": 68,
     "metadata": {},
     "output_type": "execute_result"
    }
   ],
   "source": [
    "key = df['keyword'].value_counts().index.tolist()[:5]\n",
    "line = (\n",
    "    Line(init_opts=opts.InitOpts(width=\"1230px\", height=\"730px\", theme=ThemeType.MACARONS))\n",
    "    .add_xaxis(y_time)\n",
    "    .set_series_opts(\n",
    "        areastyle_opts=opts.AreaStyleOpts(opacity=0.5),\n",
    "        label_opts=opts.LabelOpts(is_show=False),\n",
    "    )\n",
    "    .set_global_opts(\n",
    "        title_opts=opts.TitleOpts(title=\"quantity distribution\"),\n",
    "        datazoom_opts=opts.DataZoomOpts(),\n",
    "        xaxis_opts=opts.AxisOpts(\n",
    "            axistick_opts=opts.AxisTickOpts(is_align_with_label=True),\n",
    "            is_scale=False,\n",
    "            boundary_gap=False,\n",
    "            name='time',\n",
    "            name_location='middle',\n",
    "            name_gap=30,  \n",
    "            name_textstyle_opts=opts.TextStyleOpts(\n",
    "                font_family='Times New Roman',\n",
    "                font_size=16  \n",
    "            )),\n",
    "\n",
    "        yaxis_opts=opts.AxisOpts(\n",
    "            name='quantity ',\n",
    "            name_location='middle',\n",
    "            name_gap=30,\n",
    "            name_textstyle_opts=opts.TextStyleOpts(\n",
    "                font_family='Times New Roman',\n",
    "                font_size=16\n",
    "                # font_weight='bolder',\n",
    "            )),\n",
    "        # toolbox_opts=opts.ToolboxOpts() \n",
    "    )\n",
    ")\n",
    "\n",
    "for ke in key:\n",
    "    num = {}\n",
    "    for i in ['2019/1', '2019/2', '2019/3', '2019/4', '2019/5', '2019/6', '2019/7', '2019/8', '2019/9', '2019/10',\n",
    "              '2019/11', '2019/12', '2020/1', '2020/2', '2020/3', '2020/4', '2020/5', '2020/6', '2020/7', '2020/8',\n",
    "              '2020/9', '2020/10', '2020/11', '2020/12', '2021/1', '2021/2', '2021/3', '2021/4', '2021/5', '2021/6',\n",
    "              '2021/7', '2021/8', '2021/9', '2021/10', '2021/11', '2021/12', '2022/1', '2022/2', '2022/3', '2022/4',\n",
    "              '2022/5', '2022/6', '2022/7', '2022/8', '2022/9', '2022/10', '2022/11', '2022/12', ]:\n",
    "        num[i] = 0\n",
    "    temp = df[df['keyword'] == ke].groupby('date')['keyword'].count().sort_index()\n",
    "    for k, v in temp.to_dict().items():\n",
    "        if k in num:\n",
    "            num[k] = v\n",
    "\n",
    "    line.add_yaxis(ke, list(num.values()), is_smooth=True)\n",
    "\n",
    "line.render(f\"./cnn_fox_html/month_key/5_key.html\")"
   ]
  },
  {
   "cell_type": "code",
   "execution_count": null,
   "metadata": {
    "collapsed": false,
    "pycharm": {
     "name": "#%%\n"
    }
   },
   "outputs": [],
   "source": []
  }
 ],
 "metadata": {
  "kernelspec": {
   "display_name": "macs30100",
   "language": "python",
   "name": "python3"
  },
  "language_info": {
   "codemirror_mode": {
    "name": "ipython",
    "version": 3
   },
   "file_extension": ".py",
   "mimetype": "text/x-python",
   "name": "python",
   "nbconvert_exporter": "python",
   "pygments_lexer": "ipython3",
   "version": "3.8.16"
  },
  "orig_nbformat": 4
 },
 "nbformat": 4,
 "nbformat_minor": 2
}
